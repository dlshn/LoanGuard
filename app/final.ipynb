{
 "cells": [
  {
   "cell_type": "code",
   "execution_count": 98,
   "id": "e79d614e-4e8e-4684-939d-1c0f817ecd1e",
   "metadata": {},
   "outputs": [],
   "source": [
    "import pandas as pd\n",
    "import numpy as np\n",
    "from sklearn.model_selection import train_test_split\n",
    "from sklearn.preprocessing import StandardScaler\n",
    "from sklearn.neighbors import KNeighborsClassifier\n",
    "from sklearn.metrics import accuracy_score, classification_report\n",
    "from sklearn.preprocessing import LabelEncoder\n",
    "from sklearn.decomposition import PCA"
   ]
  },
  {
   "cell_type": "code",
   "execution_count": 99,
   "id": "7cfce2fb-9fe1-41be-9691-86b1e77f0252",
   "metadata": {},
   "outputs": [],
   "source": [
    "df = pd.read_csv('../data/raw_data.csv')"
   ]
  },
  {
   "cell_type": "code",
   "execution_count": 100,
   "id": "79b2d884-b955-41c0-a699-0ab850509968",
   "metadata": {},
   "outputs": [
    {
     "data": {
      "text/html": [
       "<div>\n",
       "<style scoped>\n",
       "    .dataframe tbody tr th:only-of-type {\n",
       "        vertical-align: middle;\n",
       "    }\n",
       "\n",
       "    .dataframe tbody tr th {\n",
       "        vertical-align: top;\n",
       "    }\n",
       "\n",
       "    .dataframe thead th {\n",
       "        text-align: right;\n",
       "    }\n",
       "</style>\n",
       "<table border=\"1\" class=\"dataframe\">\n",
       "  <thead>\n",
       "    <tr style=\"text-align: right;\">\n",
       "      <th></th>\n",
       "      <th>ID</th>\n",
       "      <th>year</th>\n",
       "      <th>loan_limit</th>\n",
       "      <th>Gender</th>\n",
       "      <th>approv_in_adv</th>\n",
       "      <th>loan_type</th>\n",
       "      <th>loan_purpose</th>\n",
       "      <th>Credit_Worthiness</th>\n",
       "      <th>open_credit</th>\n",
       "      <th>business_or_commercial</th>\n",
       "      <th>...</th>\n",
       "      <th>credit_type</th>\n",
       "      <th>Credit_Score</th>\n",
       "      <th>co-applicant_credit_type</th>\n",
       "      <th>age</th>\n",
       "      <th>submission_of_application</th>\n",
       "      <th>LTV</th>\n",
       "      <th>Region</th>\n",
       "      <th>Security_Type</th>\n",
       "      <th>Status</th>\n",
       "      <th>dtir1</th>\n",
       "    </tr>\n",
       "  </thead>\n",
       "  <tbody>\n",
       "    <tr>\n",
       "      <th>0</th>\n",
       "      <td>24890</td>\n",
       "      <td>2019</td>\n",
       "      <td>cf</td>\n",
       "      <td>Sex Not Available</td>\n",
       "      <td>nopre</td>\n",
       "      <td>type1</td>\n",
       "      <td>p1</td>\n",
       "      <td>l1</td>\n",
       "      <td>nopc</td>\n",
       "      <td>nob/c</td>\n",
       "      <td>...</td>\n",
       "      <td>EXP</td>\n",
       "      <td>758</td>\n",
       "      <td>CIB</td>\n",
       "      <td>25-34</td>\n",
       "      <td>to_inst</td>\n",
       "      <td>98.728814</td>\n",
       "      <td>south</td>\n",
       "      <td>direct</td>\n",
       "      <td>1</td>\n",
       "      <td>45.0</td>\n",
       "    </tr>\n",
       "    <tr>\n",
       "      <th>1</th>\n",
       "      <td>24891</td>\n",
       "      <td>2019</td>\n",
       "      <td>cf</td>\n",
       "      <td>Male</td>\n",
       "      <td>nopre</td>\n",
       "      <td>type2</td>\n",
       "      <td>p1</td>\n",
       "      <td>l1</td>\n",
       "      <td>nopc</td>\n",
       "      <td>b/c</td>\n",
       "      <td>...</td>\n",
       "      <td>EQUI</td>\n",
       "      <td>552</td>\n",
       "      <td>EXP</td>\n",
       "      <td>55-64</td>\n",
       "      <td>to_inst</td>\n",
       "      <td>NaN</td>\n",
       "      <td>North</td>\n",
       "      <td>direct</td>\n",
       "      <td>1</td>\n",
       "      <td>NaN</td>\n",
       "    </tr>\n",
       "    <tr>\n",
       "      <th>2</th>\n",
       "      <td>24892</td>\n",
       "      <td>2019</td>\n",
       "      <td>cf</td>\n",
       "      <td>Male</td>\n",
       "      <td>pre</td>\n",
       "      <td>type1</td>\n",
       "      <td>p1</td>\n",
       "      <td>l1</td>\n",
       "      <td>nopc</td>\n",
       "      <td>nob/c</td>\n",
       "      <td>...</td>\n",
       "      <td>EXP</td>\n",
       "      <td>834</td>\n",
       "      <td>CIB</td>\n",
       "      <td>35-44</td>\n",
       "      <td>to_inst</td>\n",
       "      <td>80.019685</td>\n",
       "      <td>south</td>\n",
       "      <td>direct</td>\n",
       "      <td>0</td>\n",
       "      <td>46.0</td>\n",
       "    </tr>\n",
       "    <tr>\n",
       "      <th>3</th>\n",
       "      <td>24893</td>\n",
       "      <td>2019</td>\n",
       "      <td>cf</td>\n",
       "      <td>Male</td>\n",
       "      <td>nopre</td>\n",
       "      <td>type1</td>\n",
       "      <td>p4</td>\n",
       "      <td>l1</td>\n",
       "      <td>nopc</td>\n",
       "      <td>nob/c</td>\n",
       "      <td>...</td>\n",
       "      <td>EXP</td>\n",
       "      <td>587</td>\n",
       "      <td>CIB</td>\n",
       "      <td>45-54</td>\n",
       "      <td>not_inst</td>\n",
       "      <td>69.376900</td>\n",
       "      <td>North</td>\n",
       "      <td>direct</td>\n",
       "      <td>0</td>\n",
       "      <td>42.0</td>\n",
       "    </tr>\n",
       "    <tr>\n",
       "      <th>4</th>\n",
       "      <td>24894</td>\n",
       "      <td>2019</td>\n",
       "      <td>cf</td>\n",
       "      <td>Joint</td>\n",
       "      <td>pre</td>\n",
       "      <td>type1</td>\n",
       "      <td>p1</td>\n",
       "      <td>l1</td>\n",
       "      <td>nopc</td>\n",
       "      <td>nob/c</td>\n",
       "      <td>...</td>\n",
       "      <td>CRIF</td>\n",
       "      <td>602</td>\n",
       "      <td>EXP</td>\n",
       "      <td>25-34</td>\n",
       "      <td>not_inst</td>\n",
       "      <td>91.886544</td>\n",
       "      <td>North</td>\n",
       "      <td>direct</td>\n",
       "      <td>0</td>\n",
       "      <td>39.0</td>\n",
       "    </tr>\n",
       "  </tbody>\n",
       "</table>\n",
       "<p>5 rows × 34 columns</p>\n",
       "</div>"
      ],
      "text/plain": [
       "      ID  year loan_limit             Gender approv_in_adv loan_type  \\\n",
       "0  24890  2019         cf  Sex Not Available         nopre     type1   \n",
       "1  24891  2019         cf               Male         nopre     type2   \n",
       "2  24892  2019         cf               Male           pre     type1   \n",
       "3  24893  2019         cf               Male         nopre     type1   \n",
       "4  24894  2019         cf              Joint           pre     type1   \n",
       "\n",
       "  loan_purpose Credit_Worthiness open_credit business_or_commercial  ...  \\\n",
       "0           p1                l1        nopc                  nob/c  ...   \n",
       "1           p1                l1        nopc                    b/c  ...   \n",
       "2           p1                l1        nopc                  nob/c  ...   \n",
       "3           p4                l1        nopc                  nob/c  ...   \n",
       "4           p1                l1        nopc                  nob/c  ...   \n",
       "\n",
       "   credit_type  Credit_Score  co-applicant_credit_type    age  \\\n",
       "0          EXP           758                       CIB  25-34   \n",
       "1         EQUI           552                       EXP  55-64   \n",
       "2          EXP           834                       CIB  35-44   \n",
       "3          EXP           587                       CIB  45-54   \n",
       "4         CRIF           602                       EXP  25-34   \n",
       "\n",
       "   submission_of_application        LTV Region Security_Type  Status dtir1  \n",
       "0                    to_inst  98.728814  south        direct       1  45.0  \n",
       "1                    to_inst        NaN  North        direct       1   NaN  \n",
       "2                    to_inst  80.019685  south        direct       0  46.0  \n",
       "3                   not_inst  69.376900  North        direct       0  42.0  \n",
       "4                   not_inst  91.886544  North        direct       0  39.0  \n",
       "\n",
       "[5 rows x 34 columns]"
      ]
     },
     "execution_count": 100,
     "metadata": {},
     "output_type": "execute_result"
    }
   ],
   "source": [
    "df.head()"
   ]
  },
  {
   "cell_type": "code",
   "execution_count": 101,
   "id": "56f93557-4b96-49bd-91df-26a885ffa275",
   "metadata": {},
   "outputs": [
    {
     "data": {
      "text/plain": [
       "ID                               0\n",
       "year                             0\n",
       "loan_limit                    3344\n",
       "Gender                           0\n",
       "approv_in_adv                  908\n",
       "loan_type                        0\n",
       "loan_purpose                   134\n",
       "Credit_Worthiness                0\n",
       "open_credit                      0\n",
       "business_or_commercial           0\n",
       "loan_amount                      0\n",
       "rate_of_interest             36439\n",
       "Interest_rate_spread         36639\n",
       "Upfront_charges              39642\n",
       "term                            41\n",
       "Neg_ammortization              121\n",
       "interest_only                    0\n",
       "lump_sum_payment                 0\n",
       "property_value               15098\n",
       "construction_type                0\n",
       "occupancy_type                   0\n",
       "Secured_by                       0\n",
       "total_units                      0\n",
       "income                        9150\n",
       "credit_type                      0\n",
       "Credit_Score                     0\n",
       "co-applicant_credit_type         0\n",
       "age                            200\n",
       "submission_of_application      200\n",
       "LTV                          15098\n",
       "Region                           0\n",
       "Security_Type                    0\n",
       "Status                           0\n",
       "dtir1                        24121\n",
       "dtype: int64"
      ]
     },
     "execution_count": 101,
     "metadata": {},
     "output_type": "execute_result"
    }
   ],
   "source": [
    "\n",
    "df.isnull().sum()\n",
    "\n"
   ]
  },
  {
   "cell_type": "code",
   "execution_count": 102,
   "id": "0144b187-3b3a-432c-93c1-6e0b352dffa4",
   "metadata": {},
   "outputs": [],
   "source": [
    "df['rate_of_interest'] = df['rate_of_interest'].fillna(df['rate_of_interest'].mean())\n",
    "df['Interest_rate_spread'] = df['Interest_rate_spread'].fillna(df['Interest_rate_spread'].mean())\n",
    "df['Upfront_charges'] = df['Upfront_charges'].fillna(df['Upfront_charges'].mean())\n"
   ]
  },
  {
   "cell_type": "code",
   "execution_count": 103,
   "id": "2bfbb7bc-0e5c-4984-84c0-cfe9f72d0be7",
   "metadata": {},
   "outputs": [
    {
     "data": {
      "text/plain": [
       "ID                               0\n",
       "year                             0\n",
       "loan_limit                    3344\n",
       "Gender                           0\n",
       "approv_in_adv                  908\n",
       "loan_type                        0\n",
       "loan_purpose                   134\n",
       "Credit_Worthiness                0\n",
       "open_credit                      0\n",
       "business_or_commercial           0\n",
       "loan_amount                      0\n",
       "rate_of_interest                 0\n",
       "Interest_rate_spread             0\n",
       "Upfront_charges                  0\n",
       "term                            41\n",
       "Neg_ammortization              121\n",
       "interest_only                    0\n",
       "lump_sum_payment                 0\n",
       "property_value               15098\n",
       "construction_type                0\n",
       "occupancy_type                   0\n",
       "Secured_by                       0\n",
       "total_units                      0\n",
       "income                        9150\n",
       "credit_type                      0\n",
       "Credit_Score                     0\n",
       "co-applicant_credit_type         0\n",
       "age                            200\n",
       "submission_of_application      200\n",
       "LTV                          15098\n",
       "Region                           0\n",
       "Security_Type                    0\n",
       "Status                           0\n",
       "dtir1                        24121\n",
       "dtype: int64"
      ]
     },
     "execution_count": 103,
     "metadata": {},
     "output_type": "execute_result"
    }
   ],
   "source": [
    "df.isnull().sum()"
   ]
  },
  {
   "cell_type": "code",
   "execution_count": 104,
   "id": "a6f1c955-3d97-4169-a6bb-14fdea0a6ca3",
   "metadata": {},
   "outputs": [
    {
     "data": {
      "text/plain": [
       "ID                               0\n",
       "year                             0\n",
       "loan_limit                    3344\n",
       "Gender                           0\n",
       "approv_in_adv                  908\n",
       "loan_type                        0\n",
       "loan_purpose                   134\n",
       "Credit_Worthiness                0\n",
       "open_credit                      0\n",
       "business_or_commercial           0\n",
       "loan_amount                      0\n",
       "rate_of_interest                 0\n",
       "Interest_rate_spread             0\n",
       "Upfront_charges                  0\n",
       "term                            41\n",
       "Neg_ammortization              121\n",
       "interest_only                    0\n",
       "lump_sum_payment                 0\n",
       "property_value               15098\n",
       "construction_type                0\n",
       "occupancy_type                   0\n",
       "Secured_by                       0\n",
       "total_units                      0\n",
       "income                        9150\n",
       "credit_type                      0\n",
       "Credit_Score                     0\n",
       "co-applicant_credit_type         0\n",
       "age                            200\n",
       "submission_of_application      200\n",
       "LTV                          15098\n",
       "Region                           0\n",
       "Security_Type                    0\n",
       "Status                           0\n",
       "dtir1                        24121\n",
       "dtype: int64"
      ]
     },
     "execution_count": 104,
     "metadata": {},
     "output_type": "execute_result"
    }
   ],
   "source": [
    "\n",
    "df.isnull().sum()"
   ]
  },
  {
   "cell_type": "code",
   "execution_count": 105,
   "id": "e158bd2a-34b4-4743-a322-3374716fd666",
   "metadata": {},
   "outputs": [
    {
     "data": {
      "text/plain": [
       "dtype('float64')"
      ]
     },
     "execution_count": 105,
     "metadata": {},
     "output_type": "execute_result"
    }
   ],
   "source": [
    "df['property_value'].dtype\n"
   ]
  },
  {
   "cell_type": "code",
   "execution_count": 106,
   "id": "5d00eb9d-4f85-4883-91ef-5b3687eba0db",
   "metadata": {},
   "outputs": [],
   "source": [
    "df['property_value'] = df['property_value'].fillna(df['property_value'].mean())"
   ]
  },
  {
   "cell_type": "code",
   "execution_count": 107,
   "id": "b8ac8172-35fb-4f15-b5ba-8c3568e31554",
   "metadata": {
    "scrolled": true
   },
   "outputs": [
    {
     "data": {
      "text/plain": [
       "ID                               0\n",
       "year                             0\n",
       "loan_limit                    3344\n",
       "Gender                           0\n",
       "approv_in_adv                  908\n",
       "loan_type                        0\n",
       "loan_purpose                   134\n",
       "Credit_Worthiness                0\n",
       "open_credit                      0\n",
       "business_or_commercial           0\n",
       "loan_amount                      0\n",
       "rate_of_interest                 0\n",
       "Interest_rate_spread             0\n",
       "Upfront_charges                  0\n",
       "term                            41\n",
       "Neg_ammortization              121\n",
       "interest_only                    0\n",
       "lump_sum_payment                 0\n",
       "property_value                   0\n",
       "construction_type                0\n",
       "occupancy_type                   0\n",
       "Secured_by                       0\n",
       "total_units                      0\n",
       "income                        9150\n",
       "credit_type                      0\n",
       "Credit_Score                     0\n",
       "co-applicant_credit_type         0\n",
       "age                            200\n",
       "submission_of_application      200\n",
       "LTV                          15098\n",
       "Region                           0\n",
       "Security_Type                    0\n",
       "Status                           0\n",
       "dtir1                        24121\n",
       "dtype: int64"
      ]
     },
     "execution_count": 107,
     "metadata": {},
     "output_type": "execute_result"
    }
   ],
   "source": [
    "df.isnull().sum()"
   ]
  },
  {
   "cell_type": "code",
   "execution_count": 108,
   "id": "d8d608f4-9ae9-4340-bf0c-774f2a9ad107",
   "metadata": {},
   "outputs": [],
   "source": [
    "df['income'] = df['income'].fillna(df['income'].mean())\n",
    "df['LTV'] = df['LTV'].fillna(df['LTV'].mean())\n",
    "df['dtir1'] = df['dtir1'].fillna(df['dtir1'].mean())"
   ]
  },
  {
   "cell_type": "code",
   "execution_count": 109,
   "id": "05322014-600d-4602-a8e4-c49474dd638d",
   "metadata": {},
   "outputs": [
    {
     "data": {
      "text/plain": [
       "ID                              0\n",
       "year                            0\n",
       "loan_limit                   3344\n",
       "Gender                          0\n",
       "approv_in_adv                 908\n",
       "loan_type                       0\n",
       "loan_purpose                  134\n",
       "Credit_Worthiness               0\n",
       "open_credit                     0\n",
       "business_or_commercial          0\n",
       "loan_amount                     0\n",
       "rate_of_interest                0\n",
       "Interest_rate_spread            0\n",
       "Upfront_charges                 0\n",
       "term                           41\n",
       "Neg_ammortization             121\n",
       "interest_only                   0\n",
       "lump_sum_payment                0\n",
       "property_value                  0\n",
       "construction_type               0\n",
       "occupancy_type                  0\n",
       "Secured_by                      0\n",
       "total_units                     0\n",
       "income                          0\n",
       "credit_type                     0\n",
       "Credit_Score                    0\n",
       "co-applicant_credit_type        0\n",
       "age                           200\n",
       "submission_of_application     200\n",
       "LTV                             0\n",
       "Region                          0\n",
       "Security_Type                   0\n",
       "Status                          0\n",
       "dtir1                           0\n",
       "dtype: int64"
      ]
     },
     "execution_count": 109,
     "metadata": {},
     "output_type": "execute_result"
    }
   ],
   "source": [
    "df.isnull().sum()"
   ]
  },
  {
   "cell_type": "code",
   "execution_count": 110,
   "id": "4a22401d-33c5-48fe-9f16-8d0651787b5b",
   "metadata": {},
   "outputs": [],
   "source": [
    "df = df.dropna()"
   ]
  },
  {
   "cell_type": "code",
   "execution_count": 111,
   "id": "fbba5889-012e-4b5a-aa74-151475d157cb",
   "metadata": {},
   "outputs": [
    {
     "data": {
      "text/plain": [
       "ID                           0\n",
       "year                         0\n",
       "loan_limit                   0\n",
       "Gender                       0\n",
       "approv_in_adv                0\n",
       "loan_type                    0\n",
       "loan_purpose                 0\n",
       "Credit_Worthiness            0\n",
       "open_credit                  0\n",
       "business_or_commercial       0\n",
       "loan_amount                  0\n",
       "rate_of_interest             0\n",
       "Interest_rate_spread         0\n",
       "Upfront_charges              0\n",
       "term                         0\n",
       "Neg_ammortization            0\n",
       "interest_only                0\n",
       "lump_sum_payment             0\n",
       "property_value               0\n",
       "construction_type            0\n",
       "occupancy_type               0\n",
       "Secured_by                   0\n",
       "total_units                  0\n",
       "income                       0\n",
       "credit_type                  0\n",
       "Credit_Score                 0\n",
       "co-applicant_credit_type     0\n",
       "age                          0\n",
       "submission_of_application    0\n",
       "LTV                          0\n",
       "Region                       0\n",
       "Security_Type                0\n",
       "Status                       0\n",
       "dtir1                        0\n",
       "dtype: int64"
      ]
     },
     "execution_count": 111,
     "metadata": {},
     "output_type": "execute_result"
    }
   ],
   "source": [
    "df.isnull().sum()"
   ]
  },
  {
   "cell_type": "code",
   "execution_count": 112,
   "id": "58676fb6-8617-406b-ab4d-d402562520d4",
   "metadata": {
    "scrolled": true
   },
   "outputs": [
    {
     "name": "stdout",
     "output_type": "stream",
     "text": [
      "ID                             int64\n",
      "year                           int64\n",
      "loan_limit                    object\n",
      "Gender                        object\n",
      "approv_in_adv                 object\n",
      "loan_type                     object\n",
      "loan_purpose                  object\n",
      "Credit_Worthiness             object\n",
      "open_credit                   object\n",
      "business_or_commercial        object\n",
      "loan_amount                    int64\n",
      "rate_of_interest             float64\n",
      "Interest_rate_spread         float64\n",
      "Upfront_charges              float64\n",
      "term                         float64\n",
      "Neg_ammortization             object\n",
      "interest_only                 object\n",
      "lump_sum_payment              object\n",
      "property_value               float64\n",
      "construction_type             object\n",
      "occupancy_type                object\n",
      "Secured_by                    object\n",
      "total_units                   object\n",
      "income                       float64\n",
      "credit_type                   object\n",
      "Credit_Score                   int64\n",
      "co-applicant_credit_type      object\n",
      "age                           object\n",
      "submission_of_application     object\n",
      "LTV                          float64\n",
      "Region                        object\n",
      "Security_Type                 object\n",
      "Status                         int64\n",
      "dtir1                        float64\n",
      "dtype: object\n"
     ]
    }
   ],
   "source": [
    "print(df.dtypes)"
   ]
  },
  {
   "cell_type": "code",
   "execution_count": 113,
   "id": "cca5ab10-7da6-487e-9dfd-f9c678f2cb02",
   "metadata": {},
   "outputs": [],
   "source": [
    "le = LabelEncoder()\n",
    "df['loan_limit'] = le.fit_transform(df['loan_limit'])\n",
    "df['Gender'] = le.fit_transform(df['Gender'])"
   ]
  },
  {
   "cell_type": "code",
   "execution_count": 114,
   "id": "d5c9903b-022b-4eb1-81a0-79f7b53b5c82",
   "metadata": {},
   "outputs": [
    {
     "name": "stdout",
     "output_type": "stream",
     "text": [
      "ID                             int64\n",
      "year                           int64\n",
      "loan_limit                     int32\n",
      "Gender                         int32\n",
      "approv_in_adv                 object\n",
      "loan_type                     object\n",
      "loan_purpose                  object\n",
      "Credit_Worthiness             object\n",
      "open_credit                   object\n",
      "business_or_commercial        object\n",
      "loan_amount                    int64\n",
      "rate_of_interest             float64\n",
      "Interest_rate_spread         float64\n",
      "Upfront_charges              float64\n",
      "term                         float64\n",
      "Neg_ammortization             object\n",
      "interest_only                 object\n",
      "lump_sum_payment              object\n",
      "property_value               float64\n",
      "construction_type             object\n",
      "occupancy_type                object\n",
      "Secured_by                    object\n",
      "total_units                   object\n",
      "income                       float64\n",
      "credit_type                   object\n",
      "Credit_Score                   int64\n",
      "co-applicant_credit_type      object\n",
      "age                           object\n",
      "submission_of_application     object\n",
      "LTV                          float64\n",
      "Region                        object\n",
      "Security_Type                 object\n",
      "Status                         int64\n",
      "dtir1                        float64\n",
      "dtype: object\n"
     ]
    }
   ],
   "source": [
    "print(df.dtypes)"
   ]
  },
  {
   "cell_type": "code",
   "execution_count": 115,
   "id": "3ba676b3-e81a-4dc1-8b36-b1020aceb593",
   "metadata": {},
   "outputs": [],
   "source": [
    "df['approv_in_adv'] = le.fit_transform(df['approv_in_adv'])\n",
    "df['loan_type'] = le.fit_transform(df['loan_type'])"
   ]
  },
  {
   "cell_type": "code",
   "execution_count": 116,
   "id": "2035bbf2-4aee-421f-9cb1-7fb932b2f548",
   "metadata": {},
   "outputs": [
    {
     "name": "stdout",
     "output_type": "stream",
     "text": [
      "ID                             int64\n",
      "year                           int64\n",
      "loan_limit                     int32\n",
      "Gender                         int32\n",
      "approv_in_adv                  int32\n",
      "loan_type                      int32\n",
      "loan_purpose                  object\n",
      "Credit_Worthiness             object\n",
      "open_credit                   object\n",
      "business_or_commercial        object\n",
      "loan_amount                    int64\n",
      "rate_of_interest             float64\n",
      "Interest_rate_spread         float64\n",
      "Upfront_charges              float64\n",
      "term                         float64\n",
      "Neg_ammortization             object\n",
      "interest_only                 object\n",
      "lump_sum_payment              object\n",
      "property_value               float64\n",
      "construction_type             object\n",
      "occupancy_type                object\n",
      "Secured_by                    object\n",
      "total_units                   object\n",
      "income                       float64\n",
      "credit_type                   object\n",
      "Credit_Score                   int64\n",
      "co-applicant_credit_type      object\n",
      "age                           object\n",
      "submission_of_application     object\n",
      "LTV                          float64\n",
      "Region                        object\n",
      "Security_Type                 object\n",
      "Status                         int64\n",
      "dtir1                        float64\n",
      "dtype: object\n"
     ]
    }
   ],
   "source": [
    "print(df.dtypes)"
   ]
  },
  {
   "cell_type": "code",
   "execution_count": 117,
   "id": "0648cf6b-e8de-4452-900a-e71273d14943",
   "metadata": {},
   "outputs": [],
   "source": [
    "df['loan_purpose'] = le.fit_transform(df['loan_purpose'])\n",
    "df['Credit_Worthiness'] = le.fit_transform(df['Credit_Worthiness'])"
   ]
  },
  {
   "cell_type": "code",
   "execution_count": 118,
   "id": "e145dff9-bb66-4519-a041-81fc268ce3aa",
   "metadata": {},
   "outputs": [
    {
     "name": "stdout",
     "output_type": "stream",
     "text": [
      "ID                             int64\n",
      "year                           int64\n",
      "loan_limit                     int32\n",
      "Gender                         int32\n",
      "approv_in_adv                  int32\n",
      "loan_type                      int32\n",
      "loan_purpose                   int32\n",
      "Credit_Worthiness              int32\n",
      "open_credit                   object\n",
      "business_or_commercial        object\n",
      "loan_amount                    int64\n",
      "rate_of_interest             float64\n",
      "Interest_rate_spread         float64\n",
      "Upfront_charges              float64\n",
      "term                         float64\n",
      "Neg_ammortization             object\n",
      "interest_only                 object\n",
      "lump_sum_payment              object\n",
      "property_value               float64\n",
      "construction_type             object\n",
      "occupancy_type                object\n",
      "Secured_by                    object\n",
      "total_units                   object\n",
      "income                       float64\n",
      "credit_type                   object\n",
      "Credit_Score                   int64\n",
      "co-applicant_credit_type      object\n",
      "age                           object\n",
      "submission_of_application     object\n",
      "LTV                          float64\n",
      "Region                        object\n",
      "Security_Type                 object\n",
      "Status                         int64\n",
      "dtir1                        float64\n",
      "dtype: object\n"
     ]
    }
   ],
   "source": [
    "print(df.dtypes)"
   ]
  },
  {
   "cell_type": "code",
   "execution_count": 119,
   "id": "83d1d80f-de67-4c0d-a5c5-2561fc947814",
   "metadata": {},
   "outputs": [
    {
     "name": "stdout",
     "output_type": "stream",
     "text": [
      "['nopc' 'opc']\n"
     ]
    }
   ],
   "source": [
    "unique_colors = df['open_credit'].unique()\n",
    "print(unique_colors)"
   ]
  },
  {
   "cell_type": "code",
   "execution_count": 120,
   "id": "19912fcc-5b62-49d3-9567-cb0444e446df",
   "metadata": {},
   "outputs": [],
   "source": [
    "df['open_credit'] = le.fit_transform(df['open_credit'])"
   ]
  },
  {
   "cell_type": "code",
   "execution_count": 121,
   "id": "502a015c-1002-4a67-80fb-a4496390f92b",
   "metadata": {},
   "outputs": [
    {
     "name": "stdout",
     "output_type": "stream",
     "text": [
      "['nob/c' 'b/c']\n"
     ]
    }
   ],
   "source": [
    "unique_colors = df['business_or_commercial'].unique()\n",
    "print(unique_colors)"
   ]
  },
  {
   "cell_type": "code",
   "execution_count": 122,
   "id": "5f8d7a25-8608-44c5-a324-ce2765a2a33b",
   "metadata": {},
   "outputs": [],
   "source": [
    "df['business_or_commercial'] = le.fit_transform(df['business_or_commercial'])"
   ]
  },
  {
   "cell_type": "code",
   "execution_count": 123,
   "id": "980dda23-b72d-4a9f-8a36-848f5db37c75",
   "metadata": {
    "scrolled": true
   },
   "outputs": [
    {
     "name": "stdout",
     "output_type": "stream",
     "text": [
      "ID                             int64\n",
      "year                           int64\n",
      "loan_limit                     int32\n",
      "Gender                         int32\n",
      "approv_in_adv                  int32\n",
      "loan_type                      int32\n",
      "loan_purpose                   int32\n",
      "Credit_Worthiness              int32\n",
      "open_credit                    int32\n",
      "business_or_commercial         int32\n",
      "loan_amount                    int64\n",
      "rate_of_interest             float64\n",
      "Interest_rate_spread         float64\n",
      "Upfront_charges              float64\n",
      "term                         float64\n",
      "Neg_ammortization             object\n",
      "interest_only                 object\n",
      "lump_sum_payment              object\n",
      "property_value               float64\n",
      "construction_type             object\n",
      "occupancy_type                object\n",
      "Secured_by                    object\n",
      "total_units                   object\n",
      "income                       float64\n",
      "credit_type                   object\n",
      "Credit_Score                   int64\n",
      "co-applicant_credit_type      object\n",
      "age                           object\n",
      "submission_of_application     object\n",
      "LTV                          float64\n",
      "Region                        object\n",
      "Security_Type                 object\n",
      "Status                         int64\n",
      "dtir1                        float64\n",
      "dtype: object\n"
     ]
    }
   ],
   "source": [
    "print(df.dtypes)"
   ]
  },
  {
   "cell_type": "code",
   "execution_count": 124,
   "id": "90430220-e807-4b2b-99f1-ab7e6a62f88e",
   "metadata": {},
   "outputs": [
    {
     "name": "stdout",
     "output_type": "stream",
     "text": [
      "['not_neg' 'neg_amm']\n"
     ]
    }
   ],
   "source": [
    "unique_colors = df['Neg_ammortization'].unique()\n",
    "print(unique_colors)"
   ]
  },
  {
   "cell_type": "code",
   "execution_count": 125,
   "id": "4de17952-eb90-4ad8-9494-40f12d51dee6",
   "metadata": {},
   "outputs": [
    {
     "name": "stdout",
     "output_type": "stream",
     "text": [
      "['not_int' 'int_only']\n"
     ]
    }
   ],
   "source": [
    "unique_colors = df['interest_only'].unique()\n",
    "print(unique_colors)"
   ]
  },
  {
   "cell_type": "code",
   "execution_count": 126,
   "id": "cacf2038-46c4-42d6-81fb-8039f27326fc",
   "metadata": {},
   "outputs": [
    {
     "name": "stdout",
     "output_type": "stream",
     "text": [
      "['not_lpsm' 'lpsm']\n"
     ]
    }
   ],
   "source": [
    "unique_colors = df['lump_sum_payment'].unique()\n",
    "print(unique_colors)"
   ]
  },
  {
   "cell_type": "code",
   "execution_count": 127,
   "id": "a188d398-dfe9-4da9-894d-e34ef723bafd",
   "metadata": {},
   "outputs": [],
   "source": [
    "df['Neg_ammortization'] = le.fit_transform(df['Neg_ammortization'])\n",
    "df['interest_only'] = le.fit_transform(df['interest_only'])\n",
    "df['lump_sum_payment'] = le.fit_transform(df['lump_sum_payment'])"
   ]
  },
  {
   "cell_type": "code",
   "execution_count": 128,
   "id": "dbcc547b-befe-44a8-911b-3df36546ed0f",
   "metadata": {},
   "outputs": [
    {
     "name": "stdout",
     "output_type": "stream",
     "text": [
      "ID                             int64\n",
      "year                           int64\n",
      "loan_limit                     int32\n",
      "Gender                         int32\n",
      "approv_in_adv                  int32\n",
      "loan_type                      int32\n",
      "loan_purpose                   int32\n",
      "Credit_Worthiness              int32\n",
      "open_credit                    int32\n",
      "business_or_commercial         int32\n",
      "loan_amount                    int64\n",
      "rate_of_interest             float64\n",
      "Interest_rate_spread         float64\n",
      "Upfront_charges              float64\n",
      "term                         float64\n",
      "Neg_ammortization              int32\n",
      "interest_only                  int32\n",
      "lump_sum_payment               int32\n",
      "property_value               float64\n",
      "construction_type             object\n",
      "occupancy_type                object\n",
      "Secured_by                    object\n",
      "total_units                   object\n",
      "income                       float64\n",
      "credit_type                   object\n",
      "Credit_Score                   int64\n",
      "co-applicant_credit_type      object\n",
      "age                           object\n",
      "submission_of_application     object\n",
      "LTV                          float64\n",
      "Region                        object\n",
      "Security_Type                 object\n",
      "Status                         int64\n",
      "dtir1                        float64\n",
      "dtype: object\n"
     ]
    }
   ],
   "source": [
    "print(df.dtypes)"
   ]
  },
  {
   "cell_type": "code",
   "execution_count": 129,
   "id": "ca4a6454-7377-41a6-94fb-fecae865a6c3",
   "metadata": {},
   "outputs": [
    {
     "name": "stdout",
     "output_type": "stream",
     "text": [
      "['sb' 'mh']\n",
      "['pr' 'sr' 'ir']\n",
      "['home' 'land']\n",
      "['1U' '2U' '3U' '4U']\n"
     ]
    }
   ],
   "source": [
    "unique_colors = df['construction_type'].unique()\n",
    "print(unique_colors)\n",
    "unique_colors = df['occupancy_type'].unique()\n",
    "print(unique_colors)\n",
    "unique_colors = df['Secured_by'].unique()\n",
    "print(unique_colors)\n",
    "unique_colors = df['total_units'].unique()\n",
    "print(unique_colors)"
   ]
  },
  {
   "cell_type": "code",
   "execution_count": 130,
   "id": "c81fe0aa-8ce1-4e6b-ae8f-6a16f9c156aa",
   "metadata": {},
   "outputs": [],
   "source": [
    "df['construction_type'] = le.fit_transform(df['construction_type'])\n",
    "df['occupancy_type'] = le.fit_transform(df['occupancy_type'])\n",
    "df['Secured_by'] = le.fit_transform(df['Secured_by'])\n",
    "df['total_units'] = le.fit_transform(df['total_units'])"
   ]
  },
  {
   "cell_type": "code",
   "execution_count": 131,
   "id": "df39bac3-9bdb-4178-8d4d-abcf033c9d6e",
   "metadata": {},
   "outputs": [
    {
     "name": "stdout",
     "output_type": "stream",
     "text": [
      "ID                             int64\n",
      "year                           int64\n",
      "loan_limit                     int32\n",
      "Gender                         int32\n",
      "approv_in_adv                  int32\n",
      "loan_type                      int32\n",
      "loan_purpose                   int32\n",
      "Credit_Worthiness              int32\n",
      "open_credit                    int32\n",
      "business_or_commercial         int32\n",
      "loan_amount                    int64\n",
      "rate_of_interest             float64\n",
      "Interest_rate_spread         float64\n",
      "Upfront_charges              float64\n",
      "term                         float64\n",
      "Neg_ammortization              int32\n",
      "interest_only                  int32\n",
      "lump_sum_payment               int32\n",
      "property_value               float64\n",
      "construction_type              int32\n",
      "occupancy_type                 int32\n",
      "Secured_by                     int32\n",
      "total_units                    int32\n",
      "income                       float64\n",
      "credit_type                   object\n",
      "Credit_Score                   int64\n",
      "co-applicant_credit_type      object\n",
      "age                           object\n",
      "submission_of_application     object\n",
      "LTV                          float64\n",
      "Region                        object\n",
      "Security_Type                 object\n",
      "Status                         int64\n",
      "dtir1                        float64\n",
      "dtype: object\n"
     ]
    }
   ],
   "source": [
    "print(df.dtypes)"
   ]
  },
  {
   "cell_type": "code",
   "execution_count": 132,
   "id": "1e429ad3-3927-4c5b-9418-d62c8874b73a",
   "metadata": {},
   "outputs": [
    {
     "name": "stdout",
     "output_type": "stream",
     "text": [
      "['EXP' 'EQUI' 'CRIF' 'CIB']\n",
      "['CIB' 'EXP']\n",
      "['25-34' '55-64' '35-44' '45-54' '65-74' '>74' '<25']\n"
     ]
    }
   ],
   "source": [
    "unique_colors = df['credit_type'].unique()\n",
    "print(unique_colors)\n",
    "unique_colors = df['co-applicant_credit_type'].unique()\n",
    "print(unique_colors)\n",
    "unique_colors = df['age'].unique()\n",
    "print(unique_colors)"
   ]
  },
  {
   "cell_type": "code",
   "execution_count": 133,
   "id": "4fdf8182-ba84-4d05-a6a8-623fa8ce91c0",
   "metadata": {},
   "outputs": [],
   "source": [
    "df['credit_type'] = le.fit_transform(df['credit_type'])\n",
    "df['co-applicant_credit_type'] = le.fit_transform(df['co-applicant_credit_type'])\n",
    "df['age'] = le.fit_transform(df['age'])"
   ]
  },
  {
   "cell_type": "code",
   "execution_count": 134,
   "id": "d53595ba-0beb-4430-85aa-502a0c9a1a02",
   "metadata": {},
   "outputs": [
    {
     "name": "stdout",
     "output_type": "stream",
     "text": [
      "ID                             int64\n",
      "year                           int64\n",
      "loan_limit                     int32\n",
      "Gender                         int32\n",
      "approv_in_adv                  int32\n",
      "loan_type                      int32\n",
      "loan_purpose                   int32\n",
      "Credit_Worthiness              int32\n",
      "open_credit                    int32\n",
      "business_or_commercial         int32\n",
      "loan_amount                    int64\n",
      "rate_of_interest             float64\n",
      "Interest_rate_spread         float64\n",
      "Upfront_charges              float64\n",
      "term                         float64\n",
      "Neg_ammortization              int32\n",
      "interest_only                  int32\n",
      "lump_sum_payment               int32\n",
      "property_value               float64\n",
      "construction_type              int32\n",
      "occupancy_type                 int32\n",
      "Secured_by                     int32\n",
      "total_units                    int32\n",
      "income                       float64\n",
      "credit_type                    int32\n",
      "Credit_Score                   int64\n",
      "co-applicant_credit_type       int32\n",
      "age                            int32\n",
      "submission_of_application     object\n",
      "LTV                          float64\n",
      "Region                        object\n",
      "Security_Type                 object\n",
      "Status                         int64\n",
      "dtir1                        float64\n",
      "dtype: object\n"
     ]
    }
   ],
   "source": [
    "print(df.dtypes)"
   ]
  },
  {
   "cell_type": "code",
   "execution_count": 135,
   "id": "fcc618d5-5acd-479c-8b3a-5d54fd134a06",
   "metadata": {},
   "outputs": [
    {
     "name": "stdout",
     "output_type": "stream",
     "text": [
      "['to_inst' 'not_inst']\n",
      "['south' 'North' 'central' 'North-East']\n",
      "['direct' 'Indriect']\n"
     ]
    }
   ],
   "source": [
    "unique_colors = df['submission_of_application'].unique()\n",
    "print(unique_colors)\n",
    "unique_colors = df['Region'].unique()\n",
    "print(unique_colors)\n",
    "unique_colors = df['Security_Type'].unique()\n",
    "print(unique_colors)"
   ]
  },
  {
   "cell_type": "code",
   "execution_count": 136,
   "id": "5dc5a90b-7e09-4d29-9d94-7bf3105107f0",
   "metadata": {},
   "outputs": [],
   "source": [
    "df['submission_of_application'] = le.fit_transform(df['submission_of_application'])\n",
    "df['Region'] = le.fit_transform(df['Region'])\n",
    "df['Security_Type'] = le.fit_transform(df['Security_Type'])"
   ]
  },
  {
   "cell_type": "code",
   "execution_count": 137,
   "id": "bd24a281-0185-46f3-bb1f-b4323e2c4cff",
   "metadata": {},
   "outputs": [
    {
     "name": "stdout",
     "output_type": "stream",
     "text": [
      "ID                             int64\n",
      "year                           int64\n",
      "loan_limit                     int32\n",
      "Gender                         int32\n",
      "approv_in_adv                  int32\n",
      "loan_type                      int32\n",
      "loan_purpose                   int32\n",
      "Credit_Worthiness              int32\n",
      "open_credit                    int32\n",
      "business_or_commercial         int32\n",
      "loan_amount                    int64\n",
      "rate_of_interest             float64\n",
      "Interest_rate_spread         float64\n",
      "Upfront_charges              float64\n",
      "term                         float64\n",
      "Neg_ammortization              int32\n",
      "interest_only                  int32\n",
      "lump_sum_payment               int32\n",
      "property_value               float64\n",
      "construction_type              int32\n",
      "occupancy_type                 int32\n",
      "Secured_by                     int32\n",
      "total_units                    int32\n",
      "income                       float64\n",
      "credit_type                    int32\n",
      "Credit_Score                   int64\n",
      "co-applicant_credit_type       int32\n",
      "age                            int32\n",
      "submission_of_application      int32\n",
      "LTV                          float64\n",
      "Region                         int32\n",
      "Security_Type                  int32\n",
      "Status                         int64\n",
      "dtir1                        float64\n",
      "dtype: object\n"
     ]
    }
   ],
   "source": [
    "print(df.dtypes)"
   ]
  },
  {
   "cell_type": "code",
   "execution_count": 138,
   "id": "5ff9fd87-3b8e-4a68-b811-b7321d8586d1",
   "metadata": {},
   "outputs": [],
   "source": [
    "x = df.drop(columns=['Status'])\n",
    "y = df['Status']"
   ]
  },
  {
   "cell_type": "code",
   "execution_count": 139,
   "id": "00eea0fa-68d4-4c1e-8792-440d3d077c42",
   "metadata": {},
   "outputs": [
    {
     "name": "stdout",
     "output_type": "stream",
     "text": [
      "            ID  year  loan_limit  Gender  approv_in_adv  loan_type  \\\n",
      "0        24890  2019           0       3              0          0   \n",
      "3        24893  2019           0       2              0          0   \n",
      "8        24898  2019           0       1              0          0   \n",
      "11       24901  2019           0       3              0          0   \n",
      "14       24904  2019           0       0              0          0   \n",
      "...        ...   ...         ...     ...            ...        ...   \n",
      "148640  173530  2019           0       0              0          0   \n",
      "148641  173531  2019           0       3              0          0   \n",
      "148643  173533  2019           0       1              0          0   \n",
      "148654  173544  2019           0       0              0          0   \n",
      "148660  173550  2019           0       0              0          0   \n",
      "\n",
      "        loan_purpose  Credit_Worthiness  open_credit  business_or_commercial  \\\n",
      "0                  0                  0            0                       1   \n",
      "3                  3                  0            0                       1   \n",
      "8                  2                  0            0                       1   \n",
      "11                 2                  0            0                       1   \n",
      "14                 3                  0            0                       1   \n",
      "...              ...                ...          ...                     ...   \n",
      "148640             2                  0            0                       1   \n",
      "148641             2                  0            0                       1   \n",
      "148643             0                  0            0                       1   \n",
      "148654             2                  0            0                       1   \n",
      "148660             3                  0            0                       1   \n",
      "\n",
      "        ...   income  credit_type  Credit_Score  co-applicant_credit_type  \\\n",
      "0       ...   1740.0            3           758                         0   \n",
      "3       ...  11880.0            3           587                         0   \n",
      "8       ...   5580.0            0           580                         1   \n",
      "11      ...   9540.0            3           501                         1   \n",
      "14      ...   7860.0            0           773                         0   \n",
      "...     ...      ...          ...           ...                       ...   \n",
      "148640  ...   6600.0            0           831                         0   \n",
      "148641  ...   4140.0            0           502                         0   \n",
      "148643  ...   1620.0            0           725                         1   \n",
      "148654  ...   5100.0            0           654                         0   \n",
      "148660  ...   7200.0            0           851                         1   \n",
      "\n",
      "        age  submission_of_application        LTV  Region  Security_Type  \\\n",
      "0         0                          1  98.728814       3              1   \n",
      "3         2                          0  69.376900       0              1   \n",
      "8         3                          1  78.765690       2              1   \n",
      "11        1                          1  65.889831       3              1   \n",
      "14        1                          1  76.006711       0              1   \n",
      "...     ...                        ...        ...     ...            ...   \n",
      "148640    1                          1  79.040404       0              1   \n",
      "148641    2                          1  58.217993       3              1   \n",
      "148643    3                          0  71.067416       0              1   \n",
      "148654    3                          1  40.384615       0              1   \n",
      "148660    2                          0  55.699088       0              1   \n",
      "\n",
      "        dtir1  \n",
      "0        45.0  \n",
      "3        42.0  \n",
      "8        44.0  \n",
      "11       36.0  \n",
      "14       39.0  \n",
      "...       ...  \n",
      "148640   17.0  \n",
      "148641   37.0  \n",
      "148643   40.0  \n",
      "148654   22.0  \n",
      "148660   20.0  \n",
      "\n",
      "[37506 rows x 33 columns]\n",
      "0         1\n",
      "3         0\n",
      "8         0\n",
      "11        0\n",
      "14        0\n",
      "         ..\n",
      "148640    0\n",
      "148641    0\n",
      "148643    0\n",
      "148654    0\n",
      "148660    0\n",
      "Name: Status, Length: 37506, dtype: int64\n"
     ]
    }
   ],
   "source": [
    "# Calculate Q1, Q3, and IQR for each column\n",
    "Q1 = x.quantile(0.25)\n",
    "Q3 = x.quantile(0.75)\n",
    "IQR = Q3 - Q1\n",
    "\n",
    "# Filter out rows where any value is outside the IQR bounds for each column\n",
    "x_no_outliers = x[~((x < (Q1 - 1.5 * IQR)) | (x > (Q3 + 1.5 * IQR))).any(axis=1)]\n",
    "y_no_outliers = y.loc[x_no_outliers.index]\n",
    "\n",
    "print(x_no_outliers)\n",
    "print(y_no_outliers)\n",
    "\n"
   ]
  },
  {
   "cell_type": "code",
   "execution_count": 140,
   "id": "b4298fbc-a99a-4e44-81da-e8b04daad622",
   "metadata": {},
   "outputs": [],
   "source": [
    "# Splitting the dataset into train and test sets\n",
    "X_train, X_test, y_train, y_test = train_test_split(x_no_outliers, y_no_outliers, test_size=0.2, random_state=42)"
   ]
  },
  {
   "cell_type": "code",
   "execution_count": 141,
   "id": "849f63fc-fcc7-483d-9b50-c05e15fbfbb2",
   "metadata": {},
   "outputs": [],
   "source": [
    "scaler = StandardScaler()\n",
    "X_train = scaler.fit_transform(X_train)\n",
    "X_test = scaler.transform(X_test)"
   ]
  },
  {
   "cell_type": "code",
   "execution_count": 142,
   "id": "8794e911-e248-4268-8915-f92f6f98473f",
   "metadata": {},
   "outputs": [],
   "source": [
    "pca = PCA(n_components=0.95)  # Keeps 95% of variance\n",
    "X_train_pca = pca.fit_transform(X_train)\n",
    "X_test_pca = pca.fit_transform(X_test)"
   ]
  },
  {
   "cell_type": "code",
   "execution_count": 143,
   "id": "37bd9430-4145-4652-8a42-5a08ef43ace1",
   "metadata": {},
   "outputs": [
    {
     "name": "stdout",
     "output_type": "stream",
     "text": [
      "[[ 0.89753216 -2.65191006  1.33647166  2.12491934 -0.39781007  0.72057241\n",
      "  -1.41659495 -1.14951561  0.82316538 -0.5016269  -1.44304175 -1.52066879\n",
      "   0.58564406  0.38130765]\n",
      " [-1.78670649 -0.38794178 -1.77177562  1.00011581 -0.30295902  0.99988068\n",
      "  -1.01658291 -0.33061838  0.08579388 -0.40398565  0.7065769  -0.35996837\n",
      "   0.24350351  0.43093124]\n",
      " [ 0.35611178 -1.57378646  0.09960415  0.89324355  0.91258959 -0.35093996\n",
      "   1.40526098  1.10439666 -1.60183883  2.04193296 -0.99233462 -0.55326855\n",
      "   1.22689324  0.5928759 ]\n",
      " [-2.16902043  0.59768044 -0.05971657 -0.0388064  -0.82454886  0.68157777\n",
      "   1.15326453  0.80252256  1.30934582  1.95798117  0.42693236 -0.61154377\n",
      "  -0.96974909 -0.03501841]\n",
      " [ 0.90457222 -0.33550592 -0.06301868  1.68389733  0.0411376   0.94862194\n",
      "  -0.05697688 -0.64220578  0.78047866  0.29459703  0.43945537  0.9182541\n",
      "  -0.36730899  1.15642042]]\n"
     ]
    }
   ],
   "source": [
    "print(X_train_pca[:5])"
   ]
  },
  {
   "cell_type": "code",
   "execution_count": 144,
   "id": "8b4b3e24-9082-4862-8ba9-bb7fe390d70b",
   "metadata": {},
   "outputs": [
    {
     "data": {
      "text/html": [
       "<style>#sk-container-id-2 {\n",
       "  /* Definition of color scheme common for light and dark mode */\n",
       "  --sklearn-color-text: black;\n",
       "  --sklearn-color-line: gray;\n",
       "  /* Definition of color scheme for unfitted estimators */\n",
       "  --sklearn-color-unfitted-level-0: #fff5e6;\n",
       "  --sklearn-color-unfitted-level-1: #f6e4d2;\n",
       "  --sklearn-color-unfitted-level-2: #ffe0b3;\n",
       "  --sklearn-color-unfitted-level-3: chocolate;\n",
       "  /* Definition of color scheme for fitted estimators */\n",
       "  --sklearn-color-fitted-level-0: #f0f8ff;\n",
       "  --sklearn-color-fitted-level-1: #d4ebff;\n",
       "  --sklearn-color-fitted-level-2: #b3dbfd;\n",
       "  --sklearn-color-fitted-level-3: cornflowerblue;\n",
       "\n",
       "  /* Specific color for light theme */\n",
       "  --sklearn-color-text-on-default-background: var(--sg-text-color, var(--theme-code-foreground, var(--jp-content-font-color1, black)));\n",
       "  --sklearn-color-background: var(--sg-background-color, var(--theme-background, var(--jp-layout-color0, white)));\n",
       "  --sklearn-color-border-box: var(--sg-text-color, var(--theme-code-foreground, var(--jp-content-font-color1, black)));\n",
       "  --sklearn-color-icon: #696969;\n",
       "\n",
       "  @media (prefers-color-scheme: dark) {\n",
       "    /* Redefinition of color scheme for dark theme */\n",
       "    --sklearn-color-text-on-default-background: var(--sg-text-color, var(--theme-code-foreground, var(--jp-content-font-color1, white)));\n",
       "    --sklearn-color-background: var(--sg-background-color, var(--theme-background, var(--jp-layout-color0, #111)));\n",
       "    --sklearn-color-border-box: var(--sg-text-color, var(--theme-code-foreground, var(--jp-content-font-color1, white)));\n",
       "    --sklearn-color-icon: #878787;\n",
       "  }\n",
       "}\n",
       "\n",
       "#sk-container-id-2 {\n",
       "  color: var(--sklearn-color-text);\n",
       "}\n",
       "\n",
       "#sk-container-id-2 pre {\n",
       "  padding: 0;\n",
       "}\n",
       "\n",
       "#sk-container-id-2 input.sk-hidden--visually {\n",
       "  border: 0;\n",
       "  clip: rect(1px 1px 1px 1px);\n",
       "  clip: rect(1px, 1px, 1px, 1px);\n",
       "  height: 1px;\n",
       "  margin: -1px;\n",
       "  overflow: hidden;\n",
       "  padding: 0;\n",
       "  position: absolute;\n",
       "  width: 1px;\n",
       "}\n",
       "\n",
       "#sk-container-id-2 div.sk-dashed-wrapped {\n",
       "  border: 1px dashed var(--sklearn-color-line);\n",
       "  margin: 0 0.4em 0.5em 0.4em;\n",
       "  box-sizing: border-box;\n",
       "  padding-bottom: 0.4em;\n",
       "  background-color: var(--sklearn-color-background);\n",
       "}\n",
       "\n",
       "#sk-container-id-2 div.sk-container {\n",
       "  /* jupyter's `normalize.less` sets `[hidden] { display: none; }`\n",
       "     but bootstrap.min.css set `[hidden] { display: none !important; }`\n",
       "     so we also need the `!important` here to be able to override the\n",
       "     default hidden behavior on the sphinx rendered scikit-learn.org.\n",
       "     See: https://github.com/scikit-learn/scikit-learn/issues/21755 */\n",
       "  display: inline-block !important;\n",
       "  position: relative;\n",
       "}\n",
       "\n",
       "#sk-container-id-2 div.sk-text-repr-fallback {\n",
       "  display: none;\n",
       "}\n",
       "\n",
       "div.sk-parallel-item,\n",
       "div.sk-serial,\n",
       "div.sk-item {\n",
       "  /* draw centered vertical line to link estimators */\n",
       "  background-image: linear-gradient(var(--sklearn-color-text-on-default-background), var(--sklearn-color-text-on-default-background));\n",
       "  background-size: 2px 100%;\n",
       "  background-repeat: no-repeat;\n",
       "  background-position: center center;\n",
       "}\n",
       "\n",
       "/* Parallel-specific style estimator block */\n",
       "\n",
       "#sk-container-id-2 div.sk-parallel-item::after {\n",
       "  content: \"\";\n",
       "  width: 100%;\n",
       "  border-bottom: 2px solid var(--sklearn-color-text-on-default-background);\n",
       "  flex-grow: 1;\n",
       "}\n",
       "\n",
       "#sk-container-id-2 div.sk-parallel {\n",
       "  display: flex;\n",
       "  align-items: stretch;\n",
       "  justify-content: center;\n",
       "  background-color: var(--sklearn-color-background);\n",
       "  position: relative;\n",
       "}\n",
       "\n",
       "#sk-container-id-2 div.sk-parallel-item {\n",
       "  display: flex;\n",
       "  flex-direction: column;\n",
       "}\n",
       "\n",
       "#sk-container-id-2 div.sk-parallel-item:first-child::after {\n",
       "  align-self: flex-end;\n",
       "  width: 50%;\n",
       "}\n",
       "\n",
       "#sk-container-id-2 div.sk-parallel-item:last-child::after {\n",
       "  align-self: flex-start;\n",
       "  width: 50%;\n",
       "}\n",
       "\n",
       "#sk-container-id-2 div.sk-parallel-item:only-child::after {\n",
       "  width: 0;\n",
       "}\n",
       "\n",
       "/* Serial-specific style estimator block */\n",
       "\n",
       "#sk-container-id-2 div.sk-serial {\n",
       "  display: flex;\n",
       "  flex-direction: column;\n",
       "  align-items: center;\n",
       "  background-color: var(--sklearn-color-background);\n",
       "  padding-right: 1em;\n",
       "  padding-left: 1em;\n",
       "}\n",
       "\n",
       "\n",
       "/* Toggleable style: style used for estimator/Pipeline/ColumnTransformer box that is\n",
       "clickable and can be expanded/collapsed.\n",
       "- Pipeline and ColumnTransformer use this feature and define the default style\n",
       "- Estimators will overwrite some part of the style using the `sk-estimator` class\n",
       "*/\n",
       "\n",
       "/* Pipeline and ColumnTransformer style (default) */\n",
       "\n",
       "#sk-container-id-2 div.sk-toggleable {\n",
       "  /* Default theme specific background. It is overwritten whether we have a\n",
       "  specific estimator or a Pipeline/ColumnTransformer */\n",
       "  background-color: var(--sklearn-color-background);\n",
       "}\n",
       "\n",
       "/* Toggleable label */\n",
       "#sk-container-id-2 label.sk-toggleable__label {\n",
       "  cursor: pointer;\n",
       "  display: block;\n",
       "  width: 100%;\n",
       "  margin-bottom: 0;\n",
       "  padding: 0.5em;\n",
       "  box-sizing: border-box;\n",
       "  text-align: center;\n",
       "}\n",
       "\n",
       "#sk-container-id-2 label.sk-toggleable__label-arrow:before {\n",
       "  /* Arrow on the left of the label */\n",
       "  content: \"▸\";\n",
       "  float: left;\n",
       "  margin-right: 0.25em;\n",
       "  color: var(--sklearn-color-icon);\n",
       "}\n",
       "\n",
       "#sk-container-id-2 label.sk-toggleable__label-arrow:hover:before {\n",
       "  color: var(--sklearn-color-text);\n",
       "}\n",
       "\n",
       "/* Toggleable content - dropdown */\n",
       "\n",
       "#sk-container-id-2 div.sk-toggleable__content {\n",
       "  max-height: 0;\n",
       "  max-width: 0;\n",
       "  overflow: hidden;\n",
       "  text-align: left;\n",
       "  /* unfitted */\n",
       "  background-color: var(--sklearn-color-unfitted-level-0);\n",
       "}\n",
       "\n",
       "#sk-container-id-2 div.sk-toggleable__content.fitted {\n",
       "  /* fitted */\n",
       "  background-color: var(--sklearn-color-fitted-level-0);\n",
       "}\n",
       "\n",
       "#sk-container-id-2 div.sk-toggleable__content pre {\n",
       "  margin: 0.2em;\n",
       "  border-radius: 0.25em;\n",
       "  color: var(--sklearn-color-text);\n",
       "  /* unfitted */\n",
       "  background-color: var(--sklearn-color-unfitted-level-0);\n",
       "}\n",
       "\n",
       "#sk-container-id-2 div.sk-toggleable__content.fitted pre {\n",
       "  /* unfitted */\n",
       "  background-color: var(--sklearn-color-fitted-level-0);\n",
       "}\n",
       "\n",
       "#sk-container-id-2 input.sk-toggleable__control:checked~div.sk-toggleable__content {\n",
       "  /* Expand drop-down */\n",
       "  max-height: 200px;\n",
       "  max-width: 100%;\n",
       "  overflow: auto;\n",
       "}\n",
       "\n",
       "#sk-container-id-2 input.sk-toggleable__control:checked~label.sk-toggleable__label-arrow:before {\n",
       "  content: \"▾\";\n",
       "}\n",
       "\n",
       "/* Pipeline/ColumnTransformer-specific style */\n",
       "\n",
       "#sk-container-id-2 div.sk-label input.sk-toggleable__control:checked~label.sk-toggleable__label {\n",
       "  color: var(--sklearn-color-text);\n",
       "  background-color: var(--sklearn-color-unfitted-level-2);\n",
       "}\n",
       "\n",
       "#sk-container-id-2 div.sk-label.fitted input.sk-toggleable__control:checked~label.sk-toggleable__label {\n",
       "  background-color: var(--sklearn-color-fitted-level-2);\n",
       "}\n",
       "\n",
       "/* Estimator-specific style */\n",
       "\n",
       "/* Colorize estimator box */\n",
       "#sk-container-id-2 div.sk-estimator input.sk-toggleable__control:checked~label.sk-toggleable__label {\n",
       "  /* unfitted */\n",
       "  background-color: var(--sklearn-color-unfitted-level-2);\n",
       "}\n",
       "\n",
       "#sk-container-id-2 div.sk-estimator.fitted input.sk-toggleable__control:checked~label.sk-toggleable__label {\n",
       "  /* fitted */\n",
       "  background-color: var(--sklearn-color-fitted-level-2);\n",
       "}\n",
       "\n",
       "#sk-container-id-2 div.sk-label label.sk-toggleable__label,\n",
       "#sk-container-id-2 div.sk-label label {\n",
       "  /* The background is the default theme color */\n",
       "  color: var(--sklearn-color-text-on-default-background);\n",
       "}\n",
       "\n",
       "/* On hover, darken the color of the background */\n",
       "#sk-container-id-2 div.sk-label:hover label.sk-toggleable__label {\n",
       "  color: var(--sklearn-color-text);\n",
       "  background-color: var(--sklearn-color-unfitted-level-2);\n",
       "}\n",
       "\n",
       "/* Label box, darken color on hover, fitted */\n",
       "#sk-container-id-2 div.sk-label.fitted:hover label.sk-toggleable__label.fitted {\n",
       "  color: var(--sklearn-color-text);\n",
       "  background-color: var(--sklearn-color-fitted-level-2);\n",
       "}\n",
       "\n",
       "/* Estimator label */\n",
       "\n",
       "#sk-container-id-2 div.sk-label label {\n",
       "  font-family: monospace;\n",
       "  font-weight: bold;\n",
       "  display: inline-block;\n",
       "  line-height: 1.2em;\n",
       "}\n",
       "\n",
       "#sk-container-id-2 div.sk-label-container {\n",
       "  text-align: center;\n",
       "}\n",
       "\n",
       "/* Estimator-specific */\n",
       "#sk-container-id-2 div.sk-estimator {\n",
       "  font-family: monospace;\n",
       "  border: 1px dotted var(--sklearn-color-border-box);\n",
       "  border-radius: 0.25em;\n",
       "  box-sizing: border-box;\n",
       "  margin-bottom: 0.5em;\n",
       "  /* unfitted */\n",
       "  background-color: var(--sklearn-color-unfitted-level-0);\n",
       "}\n",
       "\n",
       "#sk-container-id-2 div.sk-estimator.fitted {\n",
       "  /* fitted */\n",
       "  background-color: var(--sklearn-color-fitted-level-0);\n",
       "}\n",
       "\n",
       "/* on hover */\n",
       "#sk-container-id-2 div.sk-estimator:hover {\n",
       "  /* unfitted */\n",
       "  background-color: var(--sklearn-color-unfitted-level-2);\n",
       "}\n",
       "\n",
       "#sk-container-id-2 div.sk-estimator.fitted:hover {\n",
       "  /* fitted */\n",
       "  background-color: var(--sklearn-color-fitted-level-2);\n",
       "}\n",
       "\n",
       "/* Specification for estimator info (e.g. \"i\" and \"?\") */\n",
       "\n",
       "/* Common style for \"i\" and \"?\" */\n",
       "\n",
       ".sk-estimator-doc-link,\n",
       "a:link.sk-estimator-doc-link,\n",
       "a:visited.sk-estimator-doc-link {\n",
       "  float: right;\n",
       "  font-size: smaller;\n",
       "  line-height: 1em;\n",
       "  font-family: monospace;\n",
       "  background-color: var(--sklearn-color-background);\n",
       "  border-radius: 1em;\n",
       "  height: 1em;\n",
       "  width: 1em;\n",
       "  text-decoration: none !important;\n",
       "  margin-left: 1ex;\n",
       "  /* unfitted */\n",
       "  border: var(--sklearn-color-unfitted-level-1) 1pt solid;\n",
       "  color: var(--sklearn-color-unfitted-level-1);\n",
       "}\n",
       "\n",
       ".sk-estimator-doc-link.fitted,\n",
       "a:link.sk-estimator-doc-link.fitted,\n",
       "a:visited.sk-estimator-doc-link.fitted {\n",
       "  /* fitted */\n",
       "  border: var(--sklearn-color-fitted-level-1) 1pt solid;\n",
       "  color: var(--sklearn-color-fitted-level-1);\n",
       "}\n",
       "\n",
       "/* On hover */\n",
       "div.sk-estimator:hover .sk-estimator-doc-link:hover,\n",
       ".sk-estimator-doc-link:hover,\n",
       "div.sk-label-container:hover .sk-estimator-doc-link:hover,\n",
       ".sk-estimator-doc-link:hover {\n",
       "  /* unfitted */\n",
       "  background-color: var(--sklearn-color-unfitted-level-3);\n",
       "  color: var(--sklearn-color-background);\n",
       "  text-decoration: none;\n",
       "}\n",
       "\n",
       "div.sk-estimator.fitted:hover .sk-estimator-doc-link.fitted:hover,\n",
       ".sk-estimator-doc-link.fitted:hover,\n",
       "div.sk-label-container:hover .sk-estimator-doc-link.fitted:hover,\n",
       ".sk-estimator-doc-link.fitted:hover {\n",
       "  /* fitted */\n",
       "  background-color: var(--sklearn-color-fitted-level-3);\n",
       "  color: var(--sklearn-color-background);\n",
       "  text-decoration: none;\n",
       "}\n",
       "\n",
       "/* Span, style for the box shown on hovering the info icon */\n",
       ".sk-estimator-doc-link span {\n",
       "  display: none;\n",
       "  z-index: 9999;\n",
       "  position: relative;\n",
       "  font-weight: normal;\n",
       "  right: .2ex;\n",
       "  padding: .5ex;\n",
       "  margin: .5ex;\n",
       "  width: min-content;\n",
       "  min-width: 20ex;\n",
       "  max-width: 50ex;\n",
       "  color: var(--sklearn-color-text);\n",
       "  box-shadow: 2pt 2pt 4pt #999;\n",
       "  /* unfitted */\n",
       "  background: var(--sklearn-color-unfitted-level-0);\n",
       "  border: .5pt solid var(--sklearn-color-unfitted-level-3);\n",
       "}\n",
       "\n",
       ".sk-estimator-doc-link.fitted span {\n",
       "  /* fitted */\n",
       "  background: var(--sklearn-color-fitted-level-0);\n",
       "  border: var(--sklearn-color-fitted-level-3);\n",
       "}\n",
       "\n",
       ".sk-estimator-doc-link:hover span {\n",
       "  display: block;\n",
       "}\n",
       "\n",
       "/* \"?\"-specific style due to the `<a>` HTML tag */\n",
       "\n",
       "#sk-container-id-2 a.estimator_doc_link {\n",
       "  float: right;\n",
       "  font-size: 1rem;\n",
       "  line-height: 1em;\n",
       "  font-family: monospace;\n",
       "  background-color: var(--sklearn-color-background);\n",
       "  border-radius: 1rem;\n",
       "  height: 1rem;\n",
       "  width: 1rem;\n",
       "  text-decoration: none;\n",
       "  /* unfitted */\n",
       "  color: var(--sklearn-color-unfitted-level-1);\n",
       "  border: var(--sklearn-color-unfitted-level-1) 1pt solid;\n",
       "}\n",
       "\n",
       "#sk-container-id-2 a.estimator_doc_link.fitted {\n",
       "  /* fitted */\n",
       "  border: var(--sklearn-color-fitted-level-1) 1pt solid;\n",
       "  color: var(--sklearn-color-fitted-level-1);\n",
       "}\n",
       "\n",
       "/* On hover */\n",
       "#sk-container-id-2 a.estimator_doc_link:hover {\n",
       "  /* unfitted */\n",
       "  background-color: var(--sklearn-color-unfitted-level-3);\n",
       "  color: var(--sklearn-color-background);\n",
       "  text-decoration: none;\n",
       "}\n",
       "\n",
       "#sk-container-id-2 a.estimator_doc_link.fitted:hover {\n",
       "  /* fitted */\n",
       "  background-color: var(--sklearn-color-fitted-level-3);\n",
       "}\n",
       "</style><div id=\"sk-container-id-2\" class=\"sk-top-container\"><div class=\"sk-text-repr-fallback\"><pre>KNeighborsClassifier()</pre><b>In a Jupyter environment, please rerun this cell to show the HTML representation or trust the notebook. <br />On GitHub, the HTML representation is unable to render, please try loading this page with nbviewer.org.</b></div><div class=\"sk-container\" hidden><div class=\"sk-item\"><div class=\"sk-estimator fitted sk-toggleable\"><input class=\"sk-toggleable__control sk-hidden--visually\" id=\"sk-estimator-id-2\" type=\"checkbox\" checked><label for=\"sk-estimator-id-2\" class=\"sk-toggleable__label fitted sk-toggleable__label-arrow fitted\">&nbsp;&nbsp;KNeighborsClassifier<a class=\"sk-estimator-doc-link fitted\" rel=\"noreferrer\" target=\"_blank\" href=\"https://scikit-learn.org/1.5/modules/generated/sklearn.neighbors.KNeighborsClassifier.html\">?<span>Documentation for KNeighborsClassifier</span></a><span class=\"sk-estimator-doc-link fitted\">i<span>Fitted</span></span></label><div class=\"sk-toggleable__content fitted\"><pre>KNeighborsClassifier()</pre></div> </div></div></div></div>"
      ],
      "text/plain": [
       "KNeighborsClassifier()"
      ]
     },
     "execution_count": 144,
     "metadata": {},
     "output_type": "execute_result"
    }
   ],
   "source": [
    "knn = KNeighborsClassifier(n_neighbors=5)\n",
    "knn.fit(X_train_pca, y_train)"
   ]
  },
  {
   "cell_type": "code",
   "execution_count": 146,
   "id": "aa760ef2-b23a-4fd4-8872-62760ad29df1",
   "metadata": {},
   "outputs": [
    {
     "name": "stdout",
     "output_type": "stream",
     "text": [
      "Accuracy: 0.8940282591308985\n"
     ]
    }
   ],
   "source": [
    "y_pred = knn.predict(X_test_pca)\n",
    "accuracy = accuracy_score(y_test, y_pred)\n",
    "print(\"Accuracy:\", accuracy)"
   ]
  },
  {
   "cell_type": "code",
   "execution_count": 147,
   "id": "0c99ef60-f743-4a5d-9808-324342607634",
   "metadata": {},
   "outputs": [
    {
     "name": "stdout",
     "output_type": "stream",
     "text": [
      "              precision    recall  f1-score   support\n",
      "\n",
      "           0       0.94      0.93      0.93      5937\n",
      "           1       0.74      0.77      0.75      1565\n",
      "\n",
      "    accuracy                           0.89      7502\n",
      "   macro avg       0.84      0.85      0.84      7502\n",
      "weighted avg       0.90      0.89      0.89      7502\n",
      "\n"
     ]
    }
   ],
   "source": [
    "print(classification_report(y_test, y_pred))"
   ]
  },
  {
   "cell_type": "code",
   "execution_count": null,
   "id": "b93ba2db-6989-40e7-88ce-f56f3a5849a5",
   "metadata": {},
   "outputs": [],
   "source": []
  }
 ],
 "metadata": {
  "kernelspec": {
   "display_name": "Python 3 (ipykernel)",
   "language": "python",
   "name": "python3"
  },
  "language_info": {
   "codemirror_mode": {
    "name": "ipython",
    "version": 3
   },
   "file_extension": ".py",
   "mimetype": "text/x-python",
   "name": "python",
   "nbconvert_exporter": "python",
   "pygments_lexer": "ipython3",
   "version": "3.12.2"
  }
 },
 "nbformat": 4,
 "nbformat_minor": 5
}
