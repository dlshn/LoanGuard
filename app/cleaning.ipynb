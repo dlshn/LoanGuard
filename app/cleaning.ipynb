{
 "cells": [
  {
   "cell_type": "code",
   "execution_count": 2,
   "id": "9fbcc712-f39a-47fd-8374-2bf9dba664a0",
   "metadata": {},
   "outputs": [],
   "source": [
    "import pandas as pd\n",
    "import numpy as np"
   ]
  },
  {
   "cell_type": "code",
   "execution_count": 3,
   "id": "669b0d72-1a7d-402c-92e1-5aa20f238e5b",
   "metadata": {},
   "outputs": [],
   "source": [
    "df = pd.read_csv('../data/raw_data.csv')"
   ]
  },
  {
   "cell_type": "code",
   "execution_count": 4,
   "id": "0450c820-547b-48de-8f0d-de36b3097f0d",
   "metadata": {},
   "outputs": [
    {
     "name": "stdout",
     "output_type": "stream",
     "text": [
      "ID                               0\n",
      "year                             0\n",
      "loan_limit                    3344\n",
      "Gender                           0\n",
      "approv_in_adv                  908\n",
      "loan_type                        0\n",
      "loan_purpose                   134\n",
      "Credit_Worthiness                0\n",
      "open_credit                      0\n",
      "business_or_commercial           0\n",
      "loan_amount                      0\n",
      "rate_of_interest             36439\n",
      "Interest_rate_spread         36639\n",
      "Upfront_charges              39642\n",
      "term                            41\n",
      "Neg_ammortization              121\n",
      "interest_only                    0\n",
      "lump_sum_payment                 0\n",
      "property_value               15098\n",
      "construction_type                0\n",
      "occupancy_type                   0\n",
      "Secured_by                       0\n",
      "total_units                      0\n",
      "income                        9150\n",
      "credit_type                      0\n",
      "Credit_Score                     0\n",
      "co-applicant_credit_type         0\n",
      "age                            200\n",
      "submission_of_application      200\n",
      "LTV                          15098\n",
      "Region                           0\n",
      "Security_Type                    0\n",
      "Status                           0\n",
      "dtir1                        24121\n",
      "dtype: int64\n"
     ]
    }
   ],
   "source": [
    "print(df.isnull().sum()) # Shows the count of missing values per column"
   ]
  },
  {
   "cell_type": "code",
   "execution_count": 6,
   "id": "f550950b-6071-4f89-b2ac-405d2057df71",
   "metadata": {},
   "outputs": [
    {
     "name": "stderr",
     "output_type": "stream",
     "text": [
      "C:\\Users\\DELL\\AppData\\Local\\Temp\\ipykernel_9108\\4043142764.py:1: FutureWarning: A value is trying to be set on a copy of a DataFrame or Series through chained assignment using an inplace method.\n",
      "The behavior will change in pandas 3.0. This inplace method will never work because the intermediate object on which we are setting values always behaves as a copy.\n",
      "\n",
      "For example, when doing 'df[col].method(value, inplace=True)', try using 'df.method({col: value}, inplace=True)' or df[col] = df[col].method(value) instead, to perform the operation inplace on the original object.\n",
      "\n",
      "\n",
      "  df['income'].fillna(df['income'].mean(), inplace=True)\n"
     ]
    }
   ],
   "source": [
    "df['income'].fillna(df['income'].mean(), inplace=True)"
   ]
  },
  {
   "cell_type": "code",
   "execution_count": 7,
   "id": "e3a4c4e2-40ec-4de2-ab4a-02fd470a9c61",
   "metadata": {},
   "outputs": [],
   "source": [
    "df['income']=df['income'].fillna(df['income'].mean()) # empty fill with mean value"
   ]
  },
  {
   "cell_type": "code",
   "execution_count": 8,
   "id": "e8af3801-50e1-4754-a90a-984eefa5fd78",
   "metadata": {},
   "outputs": [
    {
     "name": "stdout",
     "output_type": "stream",
     "text": [
      "0\n"
     ]
    }
   ],
   "source": [
    "print(df['income'].isna().sum()) # check the empty (NaN) rows in DataFrame’s column\n"
   ]
  },
  {
   "cell_type": "code",
   "execution_count": 9,
   "id": "a965fa79-9452-4dc1-9cbe-1ef3cdd14b95",
   "metadata": {},
   "outputs": [],
   "source": [
    "df = df.dropna(subset=['age']) #age have few missing values, you can remove those rows\n"
   ]
  },
  {
   "cell_type": "code",
   "execution_count": 10,
   "id": "8fca9518-3b7f-4e8a-b116-384b8d9ddb41",
   "metadata": {},
   "outputs": [
    {
     "name": "stdout",
     "output_type": "stream",
     "text": [
      "0\n"
     ]
    }
   ],
   "source": [
    "print(df['age'].isna().sum())"
   ]
  },
  {
   "cell_type": "code",
   "execution_count": 11,
   "id": "34817ec1-fc8a-4720-a0b9-2e72e10a2da9",
   "metadata": {},
   "outputs": [],
   "source": [
    "df['LTV']=df['LTV'].fillna(df['LTV'].mean())"
   ]
  },
  {
   "cell_type": "code",
   "execution_count": 12,
   "id": "73e35ffe-5562-454b-95ce-b84d58e593d8",
   "metadata": {},
   "outputs": [
    {
     "name": "stdout",
     "output_type": "stream",
     "text": [
      "0\n"
     ]
    }
   ],
   "source": [
    "print(df['LTV'].isna().sum())"
   ]
  },
  {
   "cell_type": "code",
   "execution_count": 13,
   "id": "ecad600c-41ce-43c8-816d-9639649a5590",
   "metadata": {},
   "outputs": [
    {
     "name": "stdout",
     "output_type": "stream",
     "text": [
      "['l1' 'l2']\n"
     ]
    }
   ],
   "source": [
    "unique_values = df['Credit_Worthiness'].unique() # check the different values in the Credit_Worthiness column\n",
    "print(unique_values)\n"
   ]
  },
  {
   "cell_type": "code",
   "execution_count": 14,
   "id": "706ee6dc-b52b-45a9-aad1-6636e0b666f6",
   "metadata": {},
   "outputs": [],
   "source": [
    "df['Credit_Worthiness'] = df['Credit_Worthiness'].map({'l1': 1, 'l2': 2}) # Encode l1 as 1 and l2 as 2 in the Credit_Worthiness column"
   ]
  },
  {
   "cell_type": "code",
   "execution_count": 15,
   "id": "277048a0-08bc-460f-9949-fdbc0b2cf935",
   "metadata": {},
   "outputs": [
    {
     "name": "stdout",
     "output_type": "stream",
     "text": [
      "count    148470.000000\n",
      "mean       6957.338876\n",
      "std        6297.729504\n",
      "min           0.000000\n",
      "25%        3840.000000\n",
      "50%        6000.000000\n",
      "75%        8280.000000\n",
      "max      578580.000000\n",
      "Name: income, dtype: float64\n"
     ]
    }
   ],
   "source": [
    "summary_stats = df['income'].describe()\n",
    "print(summary_stats)\n"
   ]
  },
  {
   "cell_type": "code",
   "execution_count": 17,
   "id": "090d298c-373b-4fb1-ad07-e5c51d963f26",
   "metadata": {},
   "outputs": [
    {
     "name": "stdout",
     "output_type": "stream",
     "text": [
      "Outliers detected:\n",
      "             ID  year loan_limit             Gender approv_in_adv loan_type  \\\n",
      "20       24910  2019         cf              Joint         nopre     type1   \n",
      "54       24944  2019         cf              Joint         nopre     type1   \n",
      "82       24972  2019         cf  Sex Not Available         nopre     type1   \n",
      "107      24997  2019         cf              Joint         nopre     type1   \n",
      "129      25019  2019         cf  Sex Not Available         nopre     type1   \n",
      "...        ...   ...        ...                ...           ...       ...   \n",
      "148498  173388  2019         cf              Joint         nopre     type1   \n",
      "148526  173416  2019        ncf              Joint         nopre     type1   \n",
      "148534  173424  2019         cf  Sex Not Available         nopre     type1   \n",
      "148600  173490  2019         cf               Male         nopre     type1   \n",
      "148657  173547  2019         cf              Joint         nopre     type1   \n",
      "\n",
      "       loan_purpose  Credit_Worthiness open_credit business_or_commercial  \\\n",
      "20               p3                  1        nopc                  nob/c   \n",
      "54               p1                  1        nopc                  nob/c   \n",
      "82               p1                  1        nopc                  nob/c   \n",
      "107              p1                  1        nopc                  nob/c   \n",
      "129              p4                  1        nopc                  nob/c   \n",
      "...             ...                ...         ...                    ...   \n",
      "148498           p1                  1        nopc                  nob/c   \n",
      "148526           p4                  1        nopc                  nob/c   \n",
      "148534           p4                  1        nopc                  nob/c   \n",
      "148600           p4                  1        nopc                  nob/c   \n",
      "148657           p4                  2        nopc                  nob/c   \n",
      "\n",
      "        ...  credit_type  Credit_Score  co-applicant_credit_type    age  \\\n",
      "20      ...          EXP           668                       EXP  65-74   \n",
      "54      ...          EXP           808                       EXP  35-44   \n",
      "82      ...          CIB           634                       EXP  45-54   \n",
      "107     ...          EXP           639                       EXP  55-64   \n",
      "129     ...         CRIF           815                       CIB  45-54   \n",
      "...     ...          ...           ...                       ...    ...   \n",
      "148498  ...          EXP           842                       EXP  55-64   \n",
      "148526  ...         CRIF           746                       EXP  35-44   \n",
      "148534  ...         CRIF           786                       EXP  35-44   \n",
      "148600  ...         CRIF           710                       CIB  55-64   \n",
      "148657  ...          EXP           688                       EXP  65-74   \n",
      "\n",
      "        submission_of_application        LTV   Region Security_Type  Status  \\\n",
      "20                        to_inst  54.928315    North        direct       0   \n",
      "54                       not_inst  75.061881  central        direct       0   \n",
      "82                        to_inst  69.258721    south        direct       0   \n",
      "107                      not_inst  38.520408    North        direct       0   \n",
      "129                      not_inst  78.674833    North        direct       0   \n",
      "...                           ...        ...      ...           ...     ...   \n",
      "148498                   not_inst  75.887574    North        direct       0   \n",
      "148526                   not_inst  66.737033    south        direct       0   \n",
      "148534                    to_inst  74.497487    south        direct       0   \n",
      "148600                    to_inst  23.401468    North        direct       0   \n",
      "148657                   not_inst  71.288210    North        direct       0   \n",
      "\n",
      "       dtir1  \n",
      "20       6.0  \n",
      "54      28.0  \n",
      "82      23.0  \n",
      "107     32.0  \n",
      "129     27.0  \n",
      "...      ...  \n",
      "148498  14.0  \n",
      "148526  39.0  \n",
      "148534  10.0  \n",
      "148600  16.0  \n",
      "148657  30.0  \n",
      "\n",
      "[7636 rows x 34 columns]\n"
     ]
    }
   ],
   "source": [
    "Q1 = summary_stats['25%']\n",
    "Q3 = summary_stats['75%']\n",
    "IQR = Q3 - Q1\n",
    "\n",
    "# Define lower and upper bounds\n",
    "lower_bound = Q1 - 1.5 * IQR\n",
    "upper_bound = Q3 + 1.5 * IQR\n",
    "\n",
    "# Detect outliers\n",
    "outliers = df[(df['income'] < lower_bound) | (df['income'] > upper_bound)]\n",
    "print(\"Outliers detected:\\n\", outliers)\n"
   ]
  },
  {
   "cell_type": "code",
   "execution_count": 21,
   "id": "cf56a9cc-8a08-4240-8962-abe2c0b22f73",
   "metadata": {},
   "outputs": [],
   "source": [
    "import pandas as pd\n",
    "\n",
    "# Calculate Q1 (25th percentile) and Q3 (75th percentile)\n",
    "Q1 = df['income'].quantile(0.25)\n",
    "Q3 = df['income'].quantile(0.75)\n",
    "IQR = Q3 - Q1\n",
    "\n",
    "# Define lower and upper bounds for outliers\n",
    "lower_bound = Q1 - 1.5 * IQR\n",
    "upper_bound = Q3 + 1.5 * IQR\n",
    "\n",
    "# Remove outliers\n",
    "\n",
    "# If you want to update the original DataFrame, use:\n",
    "df = df[(df['income'] >= lower_bound) & (df['income'] <= upper_bound)]\n"
   ]
  },
  {
   "cell_type": "code",
   "execution_count": 22,
   "id": "58473d76-9f7c-4ebe-b508-013e1484991c",
   "metadata": {},
   "outputs": [
    {
     "name": "stdout",
     "output_type": "stream",
     "text": [
      "Outliers detected:\n",
      " Empty DataFrame\n",
      "Columns: [ID, year, loan_limit, Gender, approv_in_adv, loan_type, loan_purpose, Credit_Worthiness, open_credit, business_or_commercial, loan_amount, rate_of_interest, Interest_rate_spread, Upfront_charges, term, Neg_ammortization, interest_only, lump_sum_payment, property_value, construction_type, occupancy_type, Secured_by, total_units, income, credit_type, Credit_Score, co-applicant_credit_type, age, submission_of_application, LTV, Region, Security_Type, Status, dtir1]\n",
      "Index: []\n",
      "\n",
      "[0 rows x 34 columns]\n"
     ]
    }
   ],
   "source": [
    "Q1 = summary_stats['25%']\n",
    "Q3 = summary_stats['75%']\n",
    "IQR = Q3 - Q1\n",
    "\n",
    "# Define lower and upper bounds\n",
    "lower_bound = Q1 - 1.5 * IQR\n",
    "upper_bound = Q3 + 1.5 * IQR\n",
    "\n",
    "# Detect outliers\n",
    "outliers = df[(df['income'] < lower_bound) | (df['income'] > upper_bound)]\n",
    "print(\"Outliers detected:\\n\", outliers)"
   ]
  },
  {
   "cell_type": "code",
   "execution_count": 23,
   "id": "fd6dc200-5b90-4138-97ca-15f50a0c6f99",
   "metadata": {},
   "outputs": [],
   "source": [
    "# Calculate Q1 (25th percentile) and Q3 (75th percentile)\n",
    "Q1 = df['loan_amount'].quantile(0.25)\n",
    "Q3 = df['loan_amount'].quantile(0.75)\n",
    "IQR = Q3 - Q1\n",
    "\n",
    "# Define lower and upper bounds for outliers\n",
    "lower_bound = Q1 - 1.5 * IQR\n",
    "upper_bound = Q3 + 1.5 * IQR\n",
    "\n",
    "# Remove outliers\n",
    "\n",
    "# If you want to update the original DataFrame, use:\n",
    "df = df[(df['loan_amount'] >= lower_bound) & (df['loan_amount'] <= upper_bound)]"
   ]
  },
  {
   "cell_type": "code",
   "execution_count": 24,
   "id": "30c0e111-bfcb-439d-94e5-261b7c8bbb93",
   "metadata": {},
   "outputs": [
    {
     "name": "stdout",
     "output_type": "stream",
     "text": [
      "Outliers detected:\n",
      "             ID  year loan_limit             Gender approv_in_adv loan_type  \\\n",
      "0        24890  2019         cf  Sex Not Available         nopre     type1   \n",
      "1        24891  2019         cf               Male         nopre     type2   \n",
      "2        24892  2019         cf               Male           pre     type1   \n",
      "3        24893  2019         cf               Male         nopre     type1   \n",
      "4        24894  2019         cf              Joint           pre     type1   \n",
      "...        ...   ...        ...                ...           ...       ...   \n",
      "148665  173555  2019         cf  Sex Not Available         nopre     type1   \n",
      "148666  173556  2019         cf               Male         nopre     type1   \n",
      "148667  173557  2019         cf               Male         nopre     type1   \n",
      "148668  173558  2019         cf             Female         nopre     type1   \n",
      "148669  173559  2019         cf             Female         nopre     type1   \n",
      "\n",
      "       loan_purpose  Credit_Worthiness open_credit business_or_commercial  \\\n",
      "0                p1                  1        nopc                  nob/c   \n",
      "1                p1                  1        nopc                    b/c   \n",
      "2                p1                  1        nopc                  nob/c   \n",
      "3                p4                  1        nopc                  nob/c   \n",
      "4                p1                  1        nopc                  nob/c   \n",
      "...             ...                ...         ...                    ...   \n",
      "148665           p3                  1        nopc                  nob/c   \n",
      "148666           p1                  1        nopc                  nob/c   \n",
      "148667           p4                  1        nopc                  nob/c   \n",
      "148668           p4                  1        nopc                  nob/c   \n",
      "148669           p3                  1        nopc                  nob/c   \n",
      "\n",
      "        ...  credit_type  Credit_Score  co-applicant_credit_type    age  \\\n",
      "0       ...          EXP           758                       CIB  25-34   \n",
      "1       ...         EQUI           552                       EXP  55-64   \n",
      "2       ...          EXP           834                       CIB  35-44   \n",
      "3       ...          EXP           587                       CIB  45-54   \n",
      "4       ...         CRIF           602                       EXP  25-34   \n",
      "...     ...          ...           ...                       ...    ...   \n",
      "148665  ...          CIB           659                       EXP  55-64   \n",
      "148666  ...          CIB           569                       CIB  25-34   \n",
      "148667  ...          CIB           702                       EXP  45-54   \n",
      "148668  ...          EXP           737                       EXP  55-64   \n",
      "148669  ...          CIB           830                       CIB  45-54   \n",
      "\n",
      "        submission_of_application        LTV Region Security_Type  Status  \\\n",
      "0                         to_inst  98.728814  south        direct       1   \n",
      "1                         to_inst  72.731293  North        direct       1   \n",
      "2                         to_inst  80.019685  south        direct       0   \n",
      "3                        not_inst  69.376900  North        direct       0   \n",
      "4                        not_inst  91.886544  North        direct       0   \n",
      "...                           ...        ...    ...           ...     ...   \n",
      "148665                    to_inst  71.792763  south        direct       0   \n",
      "148666                   not_inst  74.428934  south        direct       0   \n",
      "148667                   not_inst  61.332418  North        direct       0   \n",
      "148668                    to_inst  70.683453  North        direct       0   \n",
      "148669                   not_inst  72.849462  North        direct       0   \n",
      "\n",
      "       dtir1  \n",
      "0       45.0  \n",
      "1        NaN  \n",
      "2       46.0  \n",
      "3       42.0  \n",
      "4       39.0  \n",
      "...      ...  \n",
      "148665  48.0  \n",
      "148666  15.0  \n",
      "148667  49.0  \n",
      "148668  29.0  \n",
      "148669  44.0  \n",
      "\n",
      "[139769 rows x 34 columns]\n"
     ]
    }
   ],
   "source": [
    "Q1 = summary_stats['25%']\n",
    "Q3 = summary_stats['75%']\n",
    "IQR = Q3 - Q1\n",
    "\n",
    "# Define lower and upper bounds\n",
    "lower_bound = Q1 - 1.5 * IQR\n",
    "upper_bound = Q3 + 1.5 * IQR\n",
    "\n",
    "# Detect outliers\n",
    "outliers = df[(df['loan_amount'] < lower_bound) | (df['loan_amount'] > upper_bound)]\n",
    "print(\"Outliers detected:\\n\", outliers)"
   ]
  },
  {
   "cell_type": "code",
   "execution_count": 25,
   "id": "b5e714e0-0258-4233-a1d9-f3f71fe97304",
   "metadata": {},
   "outputs": [],
   "source": [
    "# Calculate Q1 (25th percentile) and Q3 (75th percentile)\n",
    "Q1 = df['loan_amount'].quantile(0.25)\n",
    "Q3 = df['loan_amount'].quantile(0.75)\n",
    "IQR = Q3 - Q1\n",
    "\n",
    "# Define lower and upper bounds for outliers\n",
    "lower_bound = Q1 - 1.5 * IQR\n",
    "upper_bound = Q3 + 1.5 * IQR\n",
    "\n",
    "# Remove outliers\n",
    "\n",
    "# If you want to update the original DataFrame, use:\n",
    "df = df[(df['loan_amount'] >= lower_bound) & (df['loan_amount'] <= upper_bound)]"
   ]
  },
  {
   "cell_type": "code",
   "execution_count": 26,
   "id": "18d2b887-29a1-45d2-8eaa-441417c06173",
   "metadata": {},
   "outputs": [
    {
     "name": "stdout",
     "output_type": "stream",
     "text": [
      "Outliers detected:\n",
      "             ID  year loan_limit             Gender approv_in_adv loan_type  \\\n",
      "0        24890  2019         cf  Sex Not Available         nopre     type1   \n",
      "1        24891  2019         cf               Male         nopre     type2   \n",
      "2        24892  2019         cf               Male           pre     type1   \n",
      "3        24893  2019         cf               Male         nopre     type1   \n",
      "4        24894  2019         cf              Joint           pre     type1   \n",
      "...        ...   ...        ...                ...           ...       ...   \n",
      "148665  173555  2019         cf  Sex Not Available         nopre     type1   \n",
      "148666  173556  2019         cf               Male         nopre     type1   \n",
      "148667  173557  2019         cf               Male         nopre     type1   \n",
      "148668  173558  2019         cf             Female         nopre     type1   \n",
      "148669  173559  2019         cf             Female         nopre     type1   \n",
      "\n",
      "       loan_purpose  Credit_Worthiness open_credit business_or_commercial  \\\n",
      "0                p1                  1        nopc                  nob/c   \n",
      "1                p1                  1        nopc                    b/c   \n",
      "2                p1                  1        nopc                  nob/c   \n",
      "3                p4                  1        nopc                  nob/c   \n",
      "4                p1                  1        nopc                  nob/c   \n",
      "...             ...                ...         ...                    ...   \n",
      "148665           p3                  1        nopc                  nob/c   \n",
      "148666           p1                  1        nopc                  nob/c   \n",
      "148667           p4                  1        nopc                  nob/c   \n",
      "148668           p4                  1        nopc                  nob/c   \n",
      "148669           p3                  1        nopc                  nob/c   \n",
      "\n",
      "        ...  credit_type  Credit_Score  co-applicant_credit_type    age  \\\n",
      "0       ...          EXP           758                       CIB  25-34   \n",
      "1       ...         EQUI           552                       EXP  55-64   \n",
      "2       ...          EXP           834                       CIB  35-44   \n",
      "3       ...          EXP           587                       CIB  45-54   \n",
      "4       ...         CRIF           602                       EXP  25-34   \n",
      "...     ...          ...           ...                       ...    ...   \n",
      "148665  ...          CIB           659                       EXP  55-64   \n",
      "148666  ...          CIB           569                       CIB  25-34   \n",
      "148667  ...          CIB           702                       EXP  45-54   \n",
      "148668  ...          EXP           737                       EXP  55-64   \n",
      "148669  ...          CIB           830                       CIB  45-54   \n",
      "\n",
      "        submission_of_application        LTV Region Security_Type  Status  \\\n",
      "0                         to_inst  98.728814  south        direct       1   \n",
      "1                         to_inst  72.731293  North        direct       1   \n",
      "2                         to_inst  80.019685  south        direct       0   \n",
      "3                        not_inst  69.376900  North        direct       0   \n",
      "4                        not_inst  91.886544  North        direct       0   \n",
      "...                           ...        ...    ...           ...     ...   \n",
      "148665                    to_inst  71.792763  south        direct       0   \n",
      "148666                   not_inst  74.428934  south        direct       0   \n",
      "148667                   not_inst  61.332418  North        direct       0   \n",
      "148668                    to_inst  70.683453  North        direct       0   \n",
      "148669                   not_inst  72.849462  North        direct       0   \n",
      "\n",
      "       dtir1  \n",
      "0       45.0  \n",
      "1        NaN  \n",
      "2       46.0  \n",
      "3       42.0  \n",
      "4       39.0  \n",
      "...      ...  \n",
      "148665  48.0  \n",
      "148666  15.0  \n",
      "148667  49.0  \n",
      "148668  29.0  \n",
      "148669  44.0  \n",
      "\n",
      "[139586 rows x 34 columns]\n"
     ]
    }
   ],
   "source": [
    "Q1 = summary_stats['25%']\n",
    "Q3 = summary_stats['75%']\n",
    "IQR = Q3 - Q1\n",
    "\n",
    "# Define lower and upper bounds\n",
    "lower_bound = Q1 - 1.5 * IQR\n",
    "upper_bound = Q3 + 1.5 * IQR\n",
    "\n",
    "# Detect outliers\n",
    "outliers = df[(df['loan_amount'] < lower_bound) | (df['loan_amount'] > upper_bound)]\n",
    "print(\"Outliers detected:\\n\", outliers)"
   ]
  },
  {
   "cell_type": "code",
   "execution_count": 27,
   "id": "3f355720-14b1-4de7-9360-f85fe2f6ccd4",
   "metadata": {},
   "outputs": [],
   "source": [
    "import pandas as pd\n",
    "# Calculate Q1 (25th percentile) and Q3 (75th percentile)\n",
    "Q1 = df['loan_amount'].quantile(0.25)\n",
    "Q3 = df['loan_amount'].quantile(0.75)\n",
    "IQR = Q3 - Q1\n",
    "\n",
    "# Define lower and upper bounds for outliers\n",
    "lower_bound = Q1 - 1.5 * IQR\n",
    "upper_bound = Q3 + 1.5 * IQR\n",
    "\n",
    "# Remove outliers\n",
    "\n",
    "# If you want to update the original DataFrame, use:\n",
    "df = df[(df['loan_amount'] >= lower_bound) & (df['loan_amount'] <= upper_bound)]"
   ]
  },
  {
   "cell_type": "code",
   "execution_count": 28,
   "id": "ff38339c-e60b-4ac7-9693-a8aa20a01109",
   "metadata": {},
   "outputs": [
    {
     "name": "stdout",
     "output_type": "stream",
     "text": [
      "Outliers detected:\n",
      "             ID  year loan_limit             Gender approv_in_adv loan_type  \\\n",
      "0        24890  2019         cf  Sex Not Available         nopre     type1   \n",
      "1        24891  2019         cf               Male         nopre     type2   \n",
      "2        24892  2019         cf               Male           pre     type1   \n",
      "3        24893  2019         cf               Male         nopre     type1   \n",
      "4        24894  2019         cf              Joint           pre     type1   \n",
      "...        ...   ...        ...                ...           ...       ...   \n",
      "148665  173555  2019         cf  Sex Not Available         nopre     type1   \n",
      "148666  173556  2019         cf               Male         nopre     type1   \n",
      "148667  173557  2019         cf               Male         nopre     type1   \n",
      "148668  173558  2019         cf             Female         nopre     type1   \n",
      "148669  173559  2019         cf             Female         nopre     type1   \n",
      "\n",
      "       loan_purpose  Credit_Worthiness open_credit business_or_commercial  \\\n",
      "0                p1                  1        nopc                  nob/c   \n",
      "1                p1                  1        nopc                    b/c   \n",
      "2                p1                  1        nopc                  nob/c   \n",
      "3                p4                  1        nopc                  nob/c   \n",
      "4                p1                  1        nopc                  nob/c   \n",
      "...             ...                ...         ...                    ...   \n",
      "148665           p3                  1        nopc                  nob/c   \n",
      "148666           p1                  1        nopc                  nob/c   \n",
      "148667           p4                  1        nopc                  nob/c   \n",
      "148668           p4                  1        nopc                  nob/c   \n",
      "148669           p3                  1        nopc                  nob/c   \n",
      "\n",
      "        ...  credit_type  Credit_Score  co-applicant_credit_type    age  \\\n",
      "0       ...          EXP           758                       CIB  25-34   \n",
      "1       ...         EQUI           552                       EXP  55-64   \n",
      "2       ...          EXP           834                       CIB  35-44   \n",
      "3       ...          EXP           587                       CIB  45-54   \n",
      "4       ...         CRIF           602                       EXP  25-34   \n",
      "...     ...          ...           ...                       ...    ...   \n",
      "148665  ...          CIB           659                       EXP  55-64   \n",
      "148666  ...          CIB           569                       CIB  25-34   \n",
      "148667  ...          CIB           702                       EXP  45-54   \n",
      "148668  ...          EXP           737                       EXP  55-64   \n",
      "148669  ...          CIB           830                       CIB  45-54   \n",
      "\n",
      "        submission_of_application        LTV Region Security_Type  Status  \\\n",
      "0                         to_inst  98.728814  south        direct       1   \n",
      "1                         to_inst  72.731293  North        direct       1   \n",
      "2                         to_inst  80.019685  south        direct       0   \n",
      "3                        not_inst  69.376900  North        direct       0   \n",
      "4                        not_inst  91.886544  North        direct       0   \n",
      "...                           ...        ...    ...           ...     ...   \n",
      "148665                    to_inst  71.792763  south        direct       0   \n",
      "148666                   not_inst  74.428934  south        direct       0   \n",
      "148667                   not_inst  61.332418  North        direct       0   \n",
      "148668                    to_inst  70.683453  North        direct       0   \n",
      "148669                   not_inst  72.849462  North        direct       0   \n",
      "\n",
      "       dtir1  \n",
      "0       45.0  \n",
      "1        NaN  \n",
      "2       46.0  \n",
      "3       42.0  \n",
      "4       39.0  \n",
      "...      ...  \n",
      "148665  48.0  \n",
      "148666  15.0  \n",
      "148667  49.0  \n",
      "148668  29.0  \n",
      "148669  44.0  \n",
      "\n",
      "[139586 rows x 34 columns]\n"
     ]
    }
   ],
   "source": [
    "Q1 = summary_stats['25%']\n",
    "Q3 = summary_stats['75%']\n",
    "IQR = Q3 - Q1\n",
    "\n",
    "# Define lower and upper bounds\n",
    "lower_bound = Q1 - 1.5 * IQR\n",
    "upper_bound = Q3 + 1.5 * IQR\n",
    "\n",
    "# Detect outliers\n",
    "outliers = df[(df['loan_amount'] < lower_bound) | (df['loan_amount'] > upper_bound)]\n",
    "print(\"Outliers detected:\\n\", outliers)"
   ]
  },
  {
   "cell_type": "code",
   "execution_count": 29,
   "id": "4774cf30-ac7c-48d9-8e9a-d65670736d37",
   "metadata": {},
   "outputs": [
    {
     "name": "stdout",
     "output_type": "stream",
     "text": [
      "Lower bound: -2820.0\n",
      "Upper bound: 14940.0\n",
      "Outliers detected:\n",
      "             ID  year loan_limit             Gender approv_in_adv loan_type  \\\n",
      "0        24890  2019         cf  Sex Not Available         nopre     type1   \n",
      "1        24891  2019         cf               Male         nopre     type2   \n",
      "2        24892  2019         cf               Male           pre     type1   \n",
      "3        24893  2019         cf               Male         nopre     type1   \n",
      "4        24894  2019         cf              Joint           pre     type1   \n",
      "...        ...   ...        ...                ...           ...       ...   \n",
      "148665  173555  2019         cf  Sex Not Available         nopre     type1   \n",
      "148666  173556  2019         cf               Male         nopre     type1   \n",
      "148667  173557  2019         cf               Male         nopre     type1   \n",
      "148668  173558  2019         cf             Female         nopre     type1   \n",
      "148669  173559  2019         cf             Female         nopre     type1   \n",
      "\n",
      "       loan_purpose  Credit_Worthiness open_credit business_or_commercial  \\\n",
      "0                p1                  1        nopc                  nob/c   \n",
      "1                p1                  1        nopc                    b/c   \n",
      "2                p1                  1        nopc                  nob/c   \n",
      "3                p4                  1        nopc                  nob/c   \n",
      "4                p1                  1        nopc                  nob/c   \n",
      "...             ...                ...         ...                    ...   \n",
      "148665           p3                  1        nopc                  nob/c   \n",
      "148666           p1                  1        nopc                  nob/c   \n",
      "148667           p4                  1        nopc                  nob/c   \n",
      "148668           p4                  1        nopc                  nob/c   \n",
      "148669           p3                  1        nopc                  nob/c   \n",
      "\n",
      "        ...  credit_type  Credit_Score  co-applicant_credit_type    age  \\\n",
      "0       ...          EXP           758                       CIB  25-34   \n",
      "1       ...         EQUI           552                       EXP  55-64   \n",
      "2       ...          EXP           834                       CIB  35-44   \n",
      "3       ...          EXP           587                       CIB  45-54   \n",
      "4       ...         CRIF           602                       EXP  25-34   \n",
      "...     ...          ...           ...                       ...    ...   \n",
      "148665  ...          CIB           659                       EXP  55-64   \n",
      "148666  ...          CIB           569                       CIB  25-34   \n",
      "148667  ...          CIB           702                       EXP  45-54   \n",
      "148668  ...          EXP           737                       EXP  55-64   \n",
      "148669  ...          CIB           830                       CIB  45-54   \n",
      "\n",
      "        submission_of_application        LTV Region Security_Type  Status  \\\n",
      "0                         to_inst  98.728814  south        direct       1   \n",
      "1                         to_inst  72.731293  North        direct       1   \n",
      "2                         to_inst  80.019685  south        direct       0   \n",
      "3                        not_inst  69.376900  North        direct       0   \n",
      "4                        not_inst  91.886544  North        direct       0   \n",
      "...                           ...        ...    ...           ...     ...   \n",
      "148665                    to_inst  71.792763  south        direct       0   \n",
      "148666                   not_inst  74.428934  south        direct       0   \n",
      "148667                   not_inst  61.332418  North        direct       0   \n",
      "148668                    to_inst  70.683453  North        direct       0   \n",
      "148669                   not_inst  72.849462  North        direct       0   \n",
      "\n",
      "       dtir1  \n",
      "0       45.0  \n",
      "1        NaN  \n",
      "2       46.0  \n",
      "3       42.0  \n",
      "4       39.0  \n",
      "...      ...  \n",
      "148665  48.0  \n",
      "148666  15.0  \n",
      "148667  49.0  \n",
      "148668  29.0  \n",
      "148669  44.0  \n",
      "\n",
      "[139586 rows x 34 columns]\n"
     ]
    }
   ],
   "source": [
    "print(\"Lower bound:\", lower_bound)\n",
    "print(\"Upper bound:\", upper_bound)\n",
    "\n",
    "# Identify outliers\n",
    "outliers = df[(df['loan_amount'] < lower_bound) | (df['loan_amount'] > upper_bound)]\n",
    "print(\"Outliers detected:\\n\", outliers)\n"
   ]
  },
  {
   "cell_type": "code",
   "execution_count": 30,
   "id": "924bc816-8564-4b21-a562-d7f811202104",
   "metadata": {},
   "outputs": [
    {
     "name": "stdout",
     "output_type": "stream",
     "text": [
      "int64\n"
     ]
    }
   ],
   "source": [
    "# Check the data type of 'loan_amount'\n",
    "print(df['loan_amount'].dtype)\n"
   ]
  },
  {
   "cell_type": "code",
   "execution_count": 31,
   "id": "9903c8e8-51b6-4281-b9c9-00460c77a390",
   "metadata": {},
   "outputs": [
    {
     "name": "stdout",
     "output_type": "stream",
     "text": [
      "0    116500\n",
      "1    206500\n",
      "2    406500\n",
      "3    456500\n",
      "4    696500\n",
      "Name: loan_amount, dtype: int64\n"
     ]
    }
   ],
   "source": [
    "print(df['loan_amount'].head())\n"
   ]
  },
  {
   "cell_type": "code",
   "execution_count": 32,
   "id": "64c3a073-cdf0-46bf-9a06-28d3437d9ccb",
   "metadata": {},
   "outputs": [
    {
     "name": "stdout",
     "output_type": "stream",
     "text": [
      "Original number of rows: 139586\n",
      "Number of rows after removing outliers: 0\n"
     ]
    }
   ],
   "source": [
    "print(\"Original number of rows:\", len(df))\n",
    "df = df[(df['loan_amount'] >= lower_bound) & (df['loan_amount'] <= upper_bound)]\n",
    "print(\"Number of rows after removing outliers:\", len(df))\n"
   ]
  },
  {
   "cell_type": "code",
   "execution_count": 33,
   "id": "980a0539-40b4-4730-80a5-d7fbfe98bd06",
   "metadata": {},
   "outputs": [
    {
     "name": "stdout",
     "output_type": "stream",
     "text": [
      "Series([], Name: loan_amount, dtype: int64)\n"
     ]
    }
   ],
   "source": [
    "print(df['loan_amount'].head())"
   ]
  },
  {
   "cell_type": "code",
   "execution_count": 34,
   "id": "ebbbe882-0d17-4243-9bd3-fb0202672c27",
   "metadata": {},
   "outputs": [
    {
     "name": "stdout",
     "output_type": "stream",
     "text": [
      "Lower bound: -2820.0\n",
      "Upper bound: 14940.0\n"
     ]
    }
   ],
   "source": [
    "print(\"Lower bound:\", lower_bound)\n",
    "print(\"Upper bound:\", upper_bound)\n"
   ]
  },
  {
   "cell_type": "code",
   "execution_count": 35,
   "id": "8c1903bb-bd55-4ee6-8f24-a5dbb1a10b06",
   "metadata": {},
   "outputs": [
    {
     "name": "stdout",
     "output_type": "stream",
     "text": [
      "Min loan amount: nan\n",
      "Max loan amount: nan\n",
      "Descriptive statistics:\n",
      " count    0.0\n",
      "mean     NaN\n",
      "std      NaN\n",
      "min      NaN\n",
      "25%      NaN\n",
      "50%      NaN\n",
      "75%      NaN\n",
      "max      NaN\n",
      "Name: loan_amount, dtype: float64\n"
     ]
    }
   ],
   "source": [
    "print(\"Min loan amount:\", df['loan_amount'].min())\n",
    "print(\"Max loan amount:\", df['loan_amount'].max())\n",
    "print(\"Descriptive statistics:\\n\", df['loan_amount'].describe())\n"
   ]
  },
  {
   "cell_type": "code",
   "execution_count": 37,
   "id": "18b12a29-7a88-4e80-a853-3fb252fe03f8",
   "metadata": {},
   "outputs": [],
   "source": [
    "df.to_csv(\"../data/cleaned_data.csv\", index=False)"
   ]
  },
  {
   "cell_type": "code",
   "execution_count": null,
   "id": "36e29be5-67d9-480e-b070-7422dfca90f3",
   "metadata": {},
   "outputs": [],
   "source": []
  }
 ],
 "metadata": {
  "kernelspec": {
   "display_name": "Python 3 (ipykernel)",
   "language": "python",
   "name": "python3"
  },
  "language_info": {
   "codemirror_mode": {
    "name": "ipython",
    "version": 3
   },
   "file_extension": ".py",
   "mimetype": "text/x-python",
   "name": "python",
   "nbconvert_exporter": "python",
   "pygments_lexer": "ipython3",
   "version": "3.12.2"
  }
 },
 "nbformat": 4,
 "nbformat_minor": 5
}
