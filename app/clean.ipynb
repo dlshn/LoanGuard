{
 "cells": [
  {
   "cell_type": "code",
   "execution_count": 1,
   "id": "00c64d68-ca73-4540-9fa7-7c873444b730",
   "metadata": {},
   "outputs": [],
   "source": [
    "import pandas as pd"
   ]
  },
  {
   "cell_type": "code",
   "execution_count": 2,
   "id": "2c036588-9c0c-4395-a941-2c4e13b915a6",
   "metadata": {},
   "outputs": [],
   "source": [
    "df = pd.read_csv(\"../data/raw_data.csv\")"
   ]
  },
  {
   "cell_type": "code",
   "execution_count": 3,
   "id": "304adc00-647c-45d9-9f08-e8fb036b9250",
   "metadata": {},
   "outputs": [
    {
     "name": "stdout",
     "output_type": "stream",
     "text": [
      "<class 'pandas.core.frame.DataFrame'>\n",
      "RangeIndex: 148670 entries, 0 to 148669\n",
      "Data columns (total 34 columns):\n",
      " #   Column                     Non-Null Count   Dtype  \n",
      "---  ------                     --------------   -----  \n",
      " 0   ID                         148670 non-null  int64  \n",
      " 1   year                       148670 non-null  int64  \n",
      " 2   loan_limit                 145326 non-null  object \n",
      " 3   Gender                     148670 non-null  object \n",
      " 4   approv_in_adv              147762 non-null  object \n",
      " 5   loan_type                  148670 non-null  object \n",
      " 6   loan_purpose               148536 non-null  object \n",
      " 7   Credit_Worthiness          148670 non-null  object \n",
      " 8   open_credit                148670 non-null  object \n",
      " 9   business_or_commercial     148670 non-null  object \n",
      " 10  loan_amount                148670 non-null  int64  \n",
      " 11  rate_of_interest           112231 non-null  float64\n",
      " 12  Interest_rate_spread       112031 non-null  float64\n",
      " 13  Upfront_charges            109028 non-null  float64\n",
      " 14  term                       148629 non-null  float64\n",
      " 15  Neg_ammortization          148549 non-null  object \n",
      " 16  interest_only              148670 non-null  object \n",
      " 17  lump_sum_payment           148670 non-null  object \n",
      " 18  property_value             133572 non-null  float64\n",
      " 19  construction_type          148670 non-null  object \n",
      " 20  occupancy_type             148670 non-null  object \n",
      " 21  Secured_by                 148670 non-null  object \n",
      " 22  total_units                148670 non-null  object \n",
      " 23  income                     139520 non-null  float64\n",
      " 24  credit_type                148670 non-null  object \n",
      " 25  Credit_Score               148670 non-null  int64  \n",
      " 26  co-applicant_credit_type   148670 non-null  object \n",
      " 27  age                        148470 non-null  object \n",
      " 28  submission_of_application  148470 non-null  object \n",
      " 29  LTV                        133572 non-null  float64\n",
      " 30  Region                     148670 non-null  object \n",
      " 31  Security_Type              148670 non-null  object \n",
      " 32  Status                     148670 non-null  int64  \n",
      " 33  dtir1                      124549 non-null  float64\n",
      "dtypes: float64(8), int64(5), object(21)\n",
      "memory usage: 38.6+ MB\n"
     ]
    }
   ],
   "source": [
    "df.info()"
   ]
  },
  {
   "cell_type": "code",
   "execution_count": 4,
   "id": "f745e311-b04b-4cd4-98b5-37c28c26e976",
   "metadata": {},
   "outputs": [
    {
     "data": {
      "text/plain": [
       "ID                               0\n",
       "year                             0\n",
       "loan_limit                    3344\n",
       "Gender                           0\n",
       "approv_in_adv                  908\n",
       "loan_type                        0\n",
       "loan_purpose                   134\n",
       "Credit_Worthiness                0\n",
       "open_credit                      0\n",
       "business_or_commercial           0\n",
       "loan_amount                      0\n",
       "rate_of_interest             36439\n",
       "Interest_rate_spread         36639\n",
       "Upfront_charges              39642\n",
       "term                            41\n",
       "Neg_ammortization              121\n",
       "interest_only                    0\n",
       "lump_sum_payment                 0\n",
       "property_value               15098\n",
       "construction_type                0\n",
       "occupancy_type                   0\n",
       "Secured_by                       0\n",
       "total_units                      0\n",
       "income                        9150\n",
       "credit_type                      0\n",
       "Credit_Score                     0\n",
       "co-applicant_credit_type         0\n",
       "age                            200\n",
       "submission_of_application      200\n",
       "LTV                          15098\n",
       "Region                           0\n",
       "Security_Type                    0\n",
       "Status                           0\n",
       "dtir1                        24121\n",
       "dtype: int64"
      ]
     },
     "execution_count": 4,
     "metadata": {},
     "output_type": "execute_result"
    }
   ],
   "source": [
    "df.isnull().sum()"
   ]
  },
  {
   "cell_type": "code",
   "execution_count": 5,
   "id": "698969aa-d1b1-457b-b3ed-def2e786c49b",
   "metadata": {},
   "outputs": [
    {
     "data": {
      "text/plain": [
       "ID                               0\n",
       "year                             0\n",
       "loan_limit                    3344\n",
       "Gender                           0\n",
       "approv_in_adv                  908\n",
       "loan_type                        0\n",
       "loan_purpose                   134\n",
       "Credit_Worthiness                0\n",
       "open_credit                      0\n",
       "business_or_commercial           0\n",
       "loan_amount                      0\n",
       "rate_of_interest             36439\n",
       "Interest_rate_spread         36639\n",
       "Upfront_charges              39642\n",
       "term                            41\n",
       "Neg_ammortization              121\n",
       "interest_only                    0\n",
       "lump_sum_payment                 0\n",
       "property_value               15098\n",
       "construction_type                0\n",
       "occupancy_type                   0\n",
       "Secured_by                       0\n",
       "total_units                      0\n",
       "income                        9150\n",
       "credit_type                      0\n",
       "Credit_Score                     0\n",
       "co-applicant_credit_type         0\n",
       "age                            200\n",
       "submission_of_application      200\n",
       "LTV                          15098\n",
       "Region                           0\n",
       "Security_Type                    0\n",
       "Status                           0\n",
       "dtir1                        24121\n",
       "dtype: int64"
      ]
     },
     "execution_count": 5,
     "metadata": {},
     "output_type": "execute_result"
    }
   ],
   "source": [
    "df.isnull().sum()"
   ]
  },
  {
   "cell_type": "code",
   "execution_count": 10,
   "id": "94f5ffb0-41f8-4dc8-8056-f3b26cdc9e78",
   "metadata": {},
   "outputs": [
    {
     "name": "stderr",
     "output_type": "stream",
     "text": [
      "C:\\Users\\DELL\\AppData\\Local\\Temp\\ipykernel_15372\\695856698.py:1: FutureWarning: A value is trying to be set on a copy of a DataFrame or Series through chained assignment using an inplace method.\n",
      "The behavior will change in pandas 3.0. This inplace method will never work because the intermediate object on which we are setting values always behaves as a copy.\n",
      "\n",
      "For example, when doing 'df[col].method(value, inplace=True)', try using 'df.method({col: value}, inplace=True)' or df[col] = df[col].method(value) instead, to perform the operation inplace on the original object.\n",
      "\n",
      "\n",
      "  df['income'].fillna(df['income'].mean(), inplace=True)\n"
     ]
    }
   ],
   "source": [
    "df['income'].fillna(df['income'].mean(), inplace=True)\n"
   ]
  },
  {
   "cell_type": "code",
   "execution_count": 11,
   "id": "fa296dbe-1002-420f-83ff-531b681c6e89",
   "metadata": {},
   "outputs": [],
   "source": [
    "df['income'] = df['income'].fillna(df['income'].mean())\n"
   ]
  },
  {
   "cell_type": "code",
   "execution_count": 12,
   "id": "f48afc41-34d5-4eb4-844d-e55b648828e3",
   "metadata": {},
   "outputs": [
    {
     "data": {
      "text/plain": [
       "ID                                0\n",
       "year                              0\n",
       "loan_limit                     3344\n",
       "Gender                            0\n",
       "approv_in_adv                   908\n",
       "loan_type                         0\n",
       "loan_purpose                    134\n",
       "Credit_Worthiness                 0\n",
       "open_credit                       0\n",
       "business_or_commercial            0\n",
       "loan_amount                       0\n",
       "rate_of_interest              36439\n",
       "Interest_rate_spread          36639\n",
       "Upfront_charges               39642\n",
       "term                             41\n",
       "Neg_ammortization               121\n",
       "interest_only                     0\n",
       "lump_sum_payment                  0\n",
       "property_value                15098\n",
       "construction_type                 0\n",
       "occupancy_type                    0\n",
       "Secured_by                        0\n",
       "total_units                       0\n",
       "income                       148670\n",
       "credit_type                       0\n",
       "Credit_Score                      0\n",
       "co-applicant_credit_type          0\n",
       "age                             200\n",
       "submission_of_application       200\n",
       "LTV                           15098\n",
       "Region                            0\n",
       "Security_Type                     0\n",
       "Status                            0\n",
       "dtir1                         24121\n",
       "dtype: int64"
      ]
     },
     "execution_count": 12,
     "metadata": {},
     "output_type": "execute_result"
    }
   ],
   "source": [
    "df.isnull().sum()"
   ]
  },
  {
   "cell_type": "code",
   "execution_count": 13,
   "id": "e6fe564d-409a-4b53-848e-e19341795e22",
   "metadata": {},
   "outputs": [],
   "source": [
    "df = pd.read_csv(\"../data/raw_data.csv\")"
   ]
  },
  {
   "cell_type": "code",
   "execution_count": 14,
   "id": "b4c94bfb-3be4-4896-b10c-1a1eab1aa5df",
   "metadata": {},
   "outputs": [
    {
     "data": {
      "text/plain": [
       "ID                               0\n",
       "year                             0\n",
       "loan_limit                    3344\n",
       "Gender                           0\n",
       "approv_in_adv                  908\n",
       "loan_type                        0\n",
       "loan_purpose                   134\n",
       "Credit_Worthiness                0\n",
       "open_credit                      0\n",
       "business_or_commercial           0\n",
       "loan_amount                      0\n",
       "rate_of_interest             36439\n",
       "Interest_rate_spread         36639\n",
       "Upfront_charges              39642\n",
       "term                            41\n",
       "Neg_ammortization              121\n",
       "interest_only                    0\n",
       "lump_sum_payment                 0\n",
       "property_value               15098\n",
       "construction_type                0\n",
       "occupancy_type                   0\n",
       "Secured_by                       0\n",
       "total_units                      0\n",
       "income                        9150\n",
       "credit_type                      0\n",
       "Credit_Score                     0\n",
       "co-applicant_credit_type         0\n",
       "age                            200\n",
       "submission_of_application      200\n",
       "LTV                          15098\n",
       "Region                           0\n",
       "Security_Type                    0\n",
       "Status                           0\n",
       "dtir1                        24121\n",
       "dtype: int64"
      ]
     },
     "execution_count": 14,
     "metadata": {},
     "output_type": "execute_result"
    }
   ],
   "source": [
    "df.isnull().sum()"
   ]
  },
  {
   "cell_type": "code",
   "execution_count": 15,
   "id": "b8e0ef56-bfcc-4404-bf70-d4d89d483f86",
   "metadata": {},
   "outputs": [],
   "source": [
    "df['income']=df['income'].fillna(df['income'].mean())"
   ]
  },
  {
   "cell_type": "code",
   "execution_count": 16,
   "id": "e19bf855-14b3-4f1b-bc42-c9668a5136b7",
   "metadata": {},
   "outputs": [
    {
     "data": {
      "text/plain": [
       "ID                               0\n",
       "year                             0\n",
       "loan_limit                    3344\n",
       "Gender                           0\n",
       "approv_in_adv                  908\n",
       "loan_type                        0\n",
       "loan_purpose                   134\n",
       "Credit_Worthiness                0\n",
       "open_credit                      0\n",
       "business_or_commercial           0\n",
       "loan_amount                      0\n",
       "rate_of_interest             36439\n",
       "Interest_rate_spread         36639\n",
       "Upfront_charges              39642\n",
       "term                            41\n",
       "Neg_ammortization              121\n",
       "interest_only                    0\n",
       "lump_sum_payment                 0\n",
       "property_value               15098\n",
       "construction_type                0\n",
       "occupancy_type                   0\n",
       "Secured_by                       0\n",
       "total_units                      0\n",
       "income                           0\n",
       "credit_type                      0\n",
       "Credit_Score                     0\n",
       "co-applicant_credit_type         0\n",
       "age                            200\n",
       "submission_of_application      200\n",
       "LTV                          15098\n",
       "Region                           0\n",
       "Security_Type                    0\n",
       "Status                           0\n",
       "dtir1                        24121\n",
       "dtype: int64"
      ]
     },
     "execution_count": 16,
     "metadata": {},
     "output_type": "execute_result"
    }
   ],
   "source": [
    "df.isnull().sum()"
   ]
  },
  {
   "cell_type": "code",
   "execution_count": 17,
   "id": "906bffd8-b258-4542-9e5c-4a6bdfdf0aeb",
   "metadata": {},
   "outputs": [],
   "source": [
    "import pandas as pd\n",
    "\n",
    "# Calculate Q1 (25th percentile) and Q3 (75th percentile)\n",
    "Q1 = df['income'].quantile(0.25)\n",
    "Q3 = df['income'].quantile(0.75)\n",
    "IQR = Q3 - Q1\n",
    "\n",
    "# Define bounds for outliers\n",
    "lower_bound = Q1 - 1.5 * IQR\n",
    "upper_bound = Q3 + 1.5 * IQR\n",
    "\n",
    "# Filter out outliers\n",
    "df1 = df[(df['income'] >= lower_bound) & (df['income'] <= upper_bound)]\n"
   ]
  },
  {
   "cell_type": "code",
   "execution_count": 18,
   "id": "59ce4575-5dd3-4892-bebc-7cefd8996a92",
   "metadata": {},
   "outputs": [
    {
     "data": {
      "text/plain": [
       "ID                               0\n",
       "year                             0\n",
       "loan_limit                    3207\n",
       "Gender                           0\n",
       "approv_in_adv                  857\n",
       "loan_type                        0\n",
       "loan_purpose                   128\n",
       "Credit_Worthiness                0\n",
       "open_credit                      0\n",
       "business_or_commercial           0\n",
       "loan_amount                      0\n",
       "rate_of_interest             34727\n",
       "Interest_rate_spread         34927\n",
       "Upfront_charges              37715\n",
       "term                            37\n",
       "Neg_ammortization              114\n",
       "interest_only                    0\n",
       "lump_sum_payment                 0\n",
       "property_value               14287\n",
       "construction_type                0\n",
       "occupancy_type                   0\n",
       "Secured_by                       0\n",
       "total_units                      0\n",
       "income                           0\n",
       "credit_type                      0\n",
       "Credit_Score                     0\n",
       "co-applicant_credit_type         0\n",
       "age                            200\n",
       "submission_of_application      200\n",
       "LTV                          14287\n",
       "Region                           0\n",
       "Security_Type                    0\n",
       "Status                           0\n",
       "dtir1                        23310\n",
       "dtype: int64"
      ]
     },
     "execution_count": 18,
     "metadata": {},
     "output_type": "execute_result"
    }
   ],
   "source": [
    "df1.isnull().sum()"
   ]
  },
  {
   "cell_type": "code",
   "execution_count": 19,
   "id": "ec49ca69-f1b7-4cf7-be5c-14f2eba88f9f",
   "metadata": {},
   "outputs": [],
   "source": [
    "# Remove rows with missing values in a specific column, e.g., 'income'\n",
    "df2 = df.dropna(subset=['age'])\n"
   ]
  },
  {
   "cell_type": "code",
   "execution_count": 20,
   "id": "c3b3e5d0-43c9-4b48-8fa7-aa4176dc5f48",
   "metadata": {},
   "outputs": [
    {
     "data": {
      "text/plain": [
       "ID                               0\n",
       "year                             0\n",
       "loan_limit                    3332\n",
       "Gender                           0\n",
       "approv_in_adv                  908\n",
       "loan_type                        0\n",
       "loan_purpose                   126\n",
       "Credit_Worthiness                0\n",
       "open_credit                      0\n",
       "business_or_commercial           0\n",
       "loan_amount                      0\n",
       "rate_of_interest             36439\n",
       "Interest_rate_spread         36439\n",
       "Upfront_charges              39595\n",
       "term                            41\n",
       "Neg_ammortization              121\n",
       "interest_only                    0\n",
       "lump_sum_payment                 0\n",
       "property_value               15098\n",
       "construction_type                0\n",
       "occupancy_type                   0\n",
       "Secured_by                       0\n",
       "total_units                      0\n",
       "income                           0\n",
       "credit_type                      0\n",
       "Credit_Score                     0\n",
       "co-applicant_credit_type         0\n",
       "age                              0\n",
       "submission_of_application        0\n",
       "LTV                          15098\n",
       "Region                           0\n",
       "Security_Type                    0\n",
       "Status                           0\n",
       "dtir1                        23921\n",
       "dtype: int64"
      ]
     },
     "execution_count": 20,
     "metadata": {},
     "output_type": "execute_result"
    }
   ],
   "source": [
    "df2.isnull().sum()"
   ]
  },
  {
   "cell_type": "code",
   "execution_count": 21,
   "id": "9798e1ae-8f5b-42a3-a895-3dc4c8e9146a",
   "metadata": {},
   "outputs": [],
   "source": [
    "df3=df2.copy()"
   ]
  },
  {
   "cell_type": "code",
   "execution_count": 22,
   "id": "f170f1ab-104b-439a-a7c6-6b7ede3104dc",
   "metadata": {},
   "outputs": [
    {
     "name": "stderr",
     "output_type": "stream",
     "text": [
      "C:\\Users\\DELL\\AppData\\Local\\Temp\\ipykernel_15372\\1032284073.py:1: FutureWarning: Downcasting behavior in `replace` is deprecated and will be removed in a future version. To retain the old behavior, explicitly call `result.infer_objects(copy=False)`. To opt-in to the future behavior, set `pd.set_option('future.no_silent_downcasting', True)`\n",
      "  df2['Credit_Worthiness']=df2['Credit_Worthiness'].replace({'l1': 1, 'l2': 2})\n",
      "C:\\Users\\DELL\\AppData\\Local\\Temp\\ipykernel_15372\\1032284073.py:1: SettingWithCopyWarning: \n",
      "A value is trying to be set on a copy of a slice from a DataFrame.\n",
      "Try using .loc[row_indexer,col_indexer] = value instead\n",
      "\n",
      "See the caveats in the documentation: https://pandas.pydata.org/pandas-docs/stable/user_guide/indexing.html#returning-a-view-versus-a-copy\n",
      "  df2['Credit_Worthiness']=df2['Credit_Worthiness'].replace({'l1': 1, 'l2': 2})\n"
     ]
    }
   ],
   "source": [
    "df2['Credit_Worthiness']=df2['Credit_Worthiness'].replace({'l1': 1, 'l2': 2})"
   ]
  },
  {
   "cell_type": "code",
   "execution_count": 23,
   "id": "1b88b53d-1de4-4b02-ae83-4ca552c25d32",
   "metadata": {},
   "outputs": [
    {
     "data": {
      "text/plain": [
       "ID                               0\n",
       "year                             0\n",
       "loan_limit                    3332\n",
       "Gender                           0\n",
       "approv_in_adv                  908\n",
       "loan_type                        0\n",
       "loan_purpose                   126\n",
       "Credit_Worthiness                0\n",
       "open_credit                      0\n",
       "business_or_commercial           0\n",
       "loan_amount                      0\n",
       "rate_of_interest             36439\n",
       "Interest_rate_spread         36439\n",
       "Upfront_charges              39595\n",
       "term                            41\n",
       "Neg_ammortization              121\n",
       "interest_only                    0\n",
       "lump_sum_payment                 0\n",
       "property_value               15098\n",
       "construction_type                0\n",
       "occupancy_type                   0\n",
       "Secured_by                       0\n",
       "total_units                      0\n",
       "income                           0\n",
       "credit_type                      0\n",
       "Credit_Score                     0\n",
       "co-applicant_credit_type         0\n",
       "age                              0\n",
       "submission_of_application        0\n",
       "LTV                          15098\n",
       "Region                           0\n",
       "Security_Type                    0\n",
       "Status                           0\n",
       "dtir1                        23921\n",
       "dtype: int64"
      ]
     },
     "execution_count": 23,
     "metadata": {},
     "output_type": "execute_result"
    }
   ],
   "source": [
    "df2.isnull().sum()"
   ]
  },
  {
   "cell_type": "code",
   "execution_count": 24,
   "id": "d4df6d42-2673-45f2-99b1-bd2c2d692b7a",
   "metadata": {},
   "outputs": [
    {
     "data": {
      "text/plain": [
       "ID                               0\n",
       "year                             0\n",
       "loan_limit                    3332\n",
       "Gender                           0\n",
       "approv_in_adv                  908\n",
       "loan_type                        0\n",
       "loan_purpose                   126\n",
       "Credit_Worthiness                0\n",
       "open_credit                      0\n",
       "business_or_commercial           0\n",
       "loan_amount                      0\n",
       "rate_of_interest             36439\n",
       "Interest_rate_spread         36439\n",
       "Upfront_charges              39595\n",
       "term                            41\n",
       "Neg_ammortization              121\n",
       "interest_only                    0\n",
       "lump_sum_payment                 0\n",
       "property_value               15098\n",
       "construction_type                0\n",
       "occupancy_type                   0\n",
       "Secured_by                       0\n",
       "total_units                      0\n",
       "income                           0\n",
       "credit_type                      0\n",
       "Credit_Score                     0\n",
       "co-applicant_credit_type         0\n",
       "age                              0\n",
       "submission_of_application        0\n",
       "LTV                          15098\n",
       "Region                           0\n",
       "Security_Type                    0\n",
       "Status                           0\n",
       "dtir1                        23921\n",
       "dtype: int64"
      ]
     },
     "execution_count": 24,
     "metadata": {},
     "output_type": "execute_result"
    }
   ],
   "source": [
    "df3.isnull().sum()"
   ]
  },
  {
   "cell_type": "code",
   "execution_count": 25,
   "id": "be725597-4366-42af-87d3-7b1beca77460",
   "metadata": {},
   "outputs": [
    {
     "name": "stderr",
     "output_type": "stream",
     "text": [
      "C:\\Users\\DELL\\AppData\\Local\\Temp\\ipykernel_15372\\3707173016.py:1: FutureWarning: A value is trying to be set on a copy of a DataFrame or Series through chained assignment using an inplace method.\n",
      "The behavior will change in pandas 3.0. This inplace method will never work because the intermediate object on which we are setting values always behaves as a copy.\n",
      "\n",
      "For example, when doing 'df[col].method(value, inplace=True)', try using 'df.method({col: value}, inplace=True)' or df[col] = df[col].method(value) instead, to perform the operation inplace on the original object.\n",
      "\n",
      "\n",
      "  df2['Credit_Worthiness']=df2['Credit_Worthiness'].replace({'l1': 1, 'l2': 2}, inplace=True)\n",
      "C:\\Users\\DELL\\AppData\\Local\\Temp\\ipykernel_15372\\3707173016.py:1: SettingWithCopyWarning: \n",
      "A value is trying to be set on a copy of a slice from a DataFrame\n",
      "\n",
      "See the caveats in the documentation: https://pandas.pydata.org/pandas-docs/stable/user_guide/indexing.html#returning-a-view-versus-a-copy\n",
      "  df2['Credit_Worthiness']=df2['Credit_Worthiness'].replace({'l1': 1, 'l2': 2}, inplace=True)\n",
      "C:\\Users\\DELL\\AppData\\Local\\Temp\\ipykernel_15372\\3707173016.py:1: SettingWithCopyWarning: \n",
      "A value is trying to be set on a copy of a slice from a DataFrame.\n",
      "Try using .loc[row_indexer,col_indexer] = value instead\n",
      "\n",
      "See the caveats in the documentation: https://pandas.pydata.org/pandas-docs/stable/user_guide/indexing.html#returning-a-view-versus-a-copy\n",
      "  df2['Credit_Worthiness']=df2['Credit_Worthiness'].replace({'l1': 1, 'l2': 2}, inplace=True)\n"
     ]
    }
   ],
   "source": [
    "df2['Credit_Worthiness']=df2['Credit_Worthiness'].replace({'l1': 1, 'l2': 2}, inplace=True)\n"
   ]
  },
  {
   "cell_type": "code",
   "execution_count": 26,
   "id": "d882f200-345b-4069-9392-7bd4517ad440",
   "metadata": {},
   "outputs": [],
   "source": [
    "# Correct approach without inplace=True and using .loc to avoid warnings\n",
    "df2.loc[:, 'Credit_Worthiness'] = df2['Credit_Worthiness'].replace({'l1': 1, 'l2': 2})\n"
   ]
  },
  {
   "cell_type": "code",
   "execution_count": 27,
   "id": "9236d169-2f1d-4dac-8a1b-83b95564142a",
   "metadata": {},
   "outputs": [
    {
     "name": "stdout",
     "output_type": "stream",
     "text": [
      "[None]\n"
     ]
    }
   ],
   "source": [
    "# Check unique values in the 'column_name' column\n",
    "unique_values = df2['Credit_Worthiness'].unique()\n",
    "print(unique_values)\n"
   ]
  },
  {
   "cell_type": "code",
   "execution_count": 30,
   "id": "4de71012-eb6d-43a6-be97-385a96450d7f",
   "metadata": {},
   "outputs": [
    {
     "name": "stdout",
     "output_type": "stream",
     "text": [
      "148470\n"
     ]
    }
   ],
   "source": [
    "# Number of rows in the 'column_name' column\n",
    "num_rows = len(df3['Credit_Worthiness'])\n",
    "print(num_rows)\n"
   ]
  },
  {
   "cell_type": "code",
   "execution_count": 31,
   "id": "7e19b9ea-6f6c-470c-bf5b-11f790a99b58",
   "metadata": {},
   "outputs": [],
   "source": [
    "df4=df3.copy()"
   ]
  },
  {
   "cell_type": "code",
   "execution_count": 32,
   "id": "5e9a1371-ed30-46ae-914d-225937c56374",
   "metadata": {},
   "outputs": [
    {
     "data": {
      "text/plain": [
       "ID                               0\n",
       "year                             0\n",
       "loan_limit                    3332\n",
       "Gender                           0\n",
       "approv_in_adv                  908\n",
       "loan_type                        0\n",
       "loan_purpose                   126\n",
       "Credit_Worthiness                0\n",
       "open_credit                      0\n",
       "business_or_commercial           0\n",
       "loan_amount                      0\n",
       "rate_of_interest             36439\n",
       "Interest_rate_spread         36439\n",
       "Upfront_charges              39595\n",
       "term                            41\n",
       "Neg_ammortization              121\n",
       "interest_only                    0\n",
       "lump_sum_payment                 0\n",
       "property_value               15098\n",
       "construction_type                0\n",
       "occupancy_type                   0\n",
       "Secured_by                       0\n",
       "total_units                      0\n",
       "income                           0\n",
       "credit_type                      0\n",
       "Credit_Score                     0\n",
       "co-applicant_credit_type         0\n",
       "age                              0\n",
       "submission_of_application        0\n",
       "LTV                          15098\n",
       "Region                           0\n",
       "Security_Type                    0\n",
       "Status                           0\n",
       "dtir1                        23921\n",
       "dtype: int64"
      ]
     },
     "execution_count": 32,
     "metadata": {},
     "output_type": "execute_result"
    }
   ],
   "source": [
    "df4.isnull().sum()"
   ]
  },
  {
   "cell_type": "code",
   "execution_count": 33,
   "id": "78dd4918-5469-492f-8e2b-a3ffe11ee2c5",
   "metadata": {},
   "outputs": [
    {
     "name": "stdout",
     "output_type": "stream",
     "text": [
      "148470\n"
     ]
    }
   ],
   "source": [
    "num_rows = len(df2['Credit_Worthiness'])\n",
    "print(num_rows)"
   ]
  },
  {
   "cell_type": "code",
   "execution_count": 34,
   "id": "130e6222-75e1-49c0-ae5d-dace512fd9ec",
   "metadata": {},
   "outputs": [
    {
     "name": "stdout",
     "output_type": "stream",
     "text": [
      "['l1' 'l2']\n"
     ]
    }
   ],
   "source": [
    "unique_values = df3['Credit_Worthiness'].unique()\n",
    "print(unique_values)"
   ]
  },
  {
   "cell_type": "code",
   "execution_count": 35,
   "id": "bdbe5754-a111-4af5-98e3-fb69f0378766",
   "metadata": {},
   "outputs": [],
   "source": [
    "df3['LTV']=df3['LTV'].fillna(df3['LTV'].mean())"
   ]
  },
  {
   "cell_type": "code",
   "execution_count": 36,
   "id": "94ad1453-beb5-4ff6-b0d3-dcee508a1887",
   "metadata": {},
   "outputs": [
    {
     "data": {
      "text/plain": [
       "ID                               0\n",
       "year                             0\n",
       "loan_limit                    3332\n",
       "Gender                           0\n",
       "approv_in_adv                  908\n",
       "loan_type                        0\n",
       "loan_purpose                   126\n",
       "Credit_Worthiness                0\n",
       "open_credit                      0\n",
       "business_or_commercial           0\n",
       "loan_amount                      0\n",
       "rate_of_interest             36439\n",
       "Interest_rate_spread         36439\n",
       "Upfront_charges              39595\n",
       "term                            41\n",
       "Neg_ammortization              121\n",
       "interest_only                    0\n",
       "lump_sum_payment                 0\n",
       "property_value               15098\n",
       "construction_type                0\n",
       "occupancy_type                   0\n",
       "Secured_by                       0\n",
       "total_units                      0\n",
       "income                           0\n",
       "credit_type                      0\n",
       "Credit_Score                     0\n",
       "co-applicant_credit_type         0\n",
       "age                              0\n",
       "submission_of_application        0\n",
       "LTV                              0\n",
       "Region                           0\n",
       "Security_Type                    0\n",
       "Status                           0\n",
       "dtir1                        23921\n",
       "dtype: int64"
      ]
     },
     "execution_count": 36,
     "metadata": {},
     "output_type": "execute_result"
    }
   ],
   "source": [
    "df3.isnull().sum()"
   ]
  },
  {
   "cell_type": "code",
   "execution_count": 37,
   "id": "1c079396-129c-4d65-af5c-757adee8dc84",
   "metadata": {},
   "outputs": [
    {
     "name": "stdout",
     "output_type": "stream",
     "text": [
      "count    148470.000000\n",
      "mean       6957.338876\n",
      "std        6297.729504\n",
      "min           0.000000\n",
      "25%        3840.000000\n",
      "50%        6000.000000\n",
      "75%        8280.000000\n",
      "max      578580.000000\n",
      "Name: income, dtype: float64\n"
     ]
    }
   ],
   "source": [
    "summary_stats = df3['income'].describe()\n",
    "print(summary_stats)"
   ]
  },
  {
   "cell_type": "code",
   "execution_count": 39,
   "id": "dfdb397c-dded-40d1-9ac1-a3358c069692",
   "metadata": {},
   "outputs": [
    {
     "name": "stdout",
     "output_type": "stream",
     "text": [
      "Outliers detected:\n",
      "             ID  year loan_limit             Gender approv_in_adv loan_type  \\\n",
      "20       24910  2019         cf              Joint         nopre     type1   \n",
      "54       24944  2019         cf              Joint         nopre     type1   \n",
      "82       24972  2019         cf  Sex Not Available         nopre     type1   \n",
      "107      24997  2019         cf              Joint         nopre     type1   \n",
      "129      25019  2019         cf  Sex Not Available         nopre     type1   \n",
      "...        ...   ...        ...                ...           ...       ...   \n",
      "148498  173388  2019         cf              Joint         nopre     type1   \n",
      "148526  173416  2019        ncf              Joint         nopre     type1   \n",
      "148534  173424  2019         cf  Sex Not Available         nopre     type1   \n",
      "148600  173490  2019         cf               Male         nopre     type1   \n",
      "148657  173547  2019         cf              Joint         nopre     type1   \n",
      "\n",
      "       loan_purpose Credit_Worthiness open_credit business_or_commercial  ...  \\\n",
      "20               p3                l1        nopc                  nob/c  ...   \n",
      "54               p1                l1        nopc                  nob/c  ...   \n",
      "82               p1                l1        nopc                  nob/c  ...   \n",
      "107              p1                l1        nopc                  nob/c  ...   \n",
      "129              p4                l1        nopc                  nob/c  ...   \n",
      "...             ...               ...         ...                    ...  ...   \n",
      "148498           p1                l1        nopc                  nob/c  ...   \n",
      "148526           p4                l1        nopc                  nob/c  ...   \n",
      "148534           p4                l1        nopc                  nob/c  ...   \n",
      "148600           p4                l1        nopc                  nob/c  ...   \n",
      "148657           p4                l2        nopc                  nob/c  ...   \n",
      "\n",
      "        credit_type  Credit_Score  co-applicant_credit_type    age  \\\n",
      "20              EXP           668                       EXP  65-74   \n",
      "54              EXP           808                       EXP  35-44   \n",
      "82              CIB           634                       EXP  45-54   \n",
      "107             EXP           639                       EXP  55-64   \n",
      "129            CRIF           815                       CIB  45-54   \n",
      "...             ...           ...                       ...    ...   \n",
      "148498          EXP           842                       EXP  55-64   \n",
      "148526         CRIF           746                       EXP  35-44   \n",
      "148534         CRIF           786                       EXP  35-44   \n",
      "148600         CRIF           710                       CIB  55-64   \n",
      "148657          EXP           688                       EXP  65-74   \n",
      "\n",
      "        submission_of_application        LTV   Region Security_Type  Status  \\\n",
      "20                        to_inst  54.928315    North        direct       0   \n",
      "54                       not_inst  75.061881  central        direct       0   \n",
      "82                        to_inst  69.258721    south        direct       0   \n",
      "107                      not_inst  38.520408    North        direct       0   \n",
      "129                      not_inst  78.674833    North        direct       0   \n",
      "...                           ...        ...      ...           ...     ...   \n",
      "148498                   not_inst  75.887574    North        direct       0   \n",
      "148526                   not_inst  66.737033    south        direct       0   \n",
      "148534                    to_inst  74.497487    south        direct       0   \n",
      "148600                    to_inst  23.401468    North        direct       0   \n",
      "148657                   not_inst  71.288210    North        direct       0   \n",
      "\n",
      "       dtir1  \n",
      "20       6.0  \n",
      "54      28.0  \n",
      "82      23.0  \n",
      "107     32.0  \n",
      "129     27.0  \n",
      "...      ...  \n",
      "148498  14.0  \n",
      "148526  39.0  \n",
      "148534  10.0  \n",
      "148600  16.0  \n",
      "148657  30.0  \n",
      "\n",
      "[7636 rows x 34 columns]\n"
     ]
    }
   ],
   "source": [
    "Q1 = summary_stats['25%']\n",
    "Q3 = summary_stats['75%']\n",
    "IQR = Q3 - Q1\n",
    "\n",
    "# Define lower and upper bounds\n",
    "lower_bound = Q1 - 1.5 * IQR\n",
    "upper_bound = Q3 + 1.5 * IQR\n",
    "\n",
    "# Detect outliers\n",
    "outliers = df3[(df3['income'] < lower_bound) | (df3['income'] > upper_bound)]\n",
    "print(\"Outliers detected:\\n\", outliers)"
   ]
  },
  {
   "cell_type": "code",
   "execution_count": 41,
   "id": "490af589-ef3f-486b-80d9-dd2378102cc6",
   "metadata": {},
   "outputs": [],
   "source": [
    "# Calculate Q1 (25th percentile) and Q3 (75th percentile)\n",
    "Q1 = df3['income'].quantile(0.25)\n",
    "Q3 = df3['income'].quantile(0.75)\n",
    "IQR = Q3 - Q1\n",
    "\n",
    "# Define lower and upper bounds for outliers\n",
    "lower_bound = Q1 - 1.5 * IQR\n",
    "upper_bound = Q3 + 1.5 * IQR\n",
    "\n",
    "# Remove outliers\n",
    "\n",
    "# If you want to update the original DataFrame, use:\n",
    "df_income = df3[(df3['income'] >= lower_bound) & (df3['income'] <= upper_bound)]"
   ]
  },
  {
   "cell_type": "code",
   "execution_count": 42,
   "id": "221b1652-83e5-4f16-9125-3a623efba3d3",
   "metadata": {},
   "outputs": [
    {
     "name": "stdout",
     "output_type": "stream",
     "text": [
      "Outliers detected:\n",
      " Empty DataFrame\n",
      "Columns: [ID, year, loan_limit, Gender, approv_in_adv, loan_type, loan_purpose, Credit_Worthiness, open_credit, business_or_commercial, loan_amount, rate_of_interest, Interest_rate_spread, Upfront_charges, term, Neg_ammortization, interest_only, lump_sum_payment, property_value, construction_type, occupancy_type, Secured_by, total_units, income, credit_type, Credit_Score, co-applicant_credit_type, age, submission_of_application, LTV, Region, Security_Type, Status, dtir1]\n",
      "Index: []\n",
      "\n",
      "[0 rows x 34 columns]\n"
     ]
    }
   ],
   "source": [
    "Q1 = summary_stats['25%']\n",
    "Q3 = summary_stats['75%']\n",
    "IQR = Q3 - Q1\n",
    "\n",
    "# Define lower and upper bounds\n",
    "lower_bound = Q1 - 1.5 * IQR\n",
    "upper_bound = Q3 + 1.5 * IQR\n",
    "\n",
    "# Detect outliers\n",
    "outliers = df_income[(df_income['income'] < lower_bound) | (df_income['income'] > upper_bound)]\n",
    "print(\"Outliers detected:\\n\", outliers)"
   ]
  },
  {
   "cell_type": "code",
   "execution_count": 43,
   "id": "45bfb7a2-fdbd-434a-958a-41d037192d31",
   "metadata": {},
   "outputs": [
    {
     "name": "stdout",
     "output_type": "stream",
     "text": [
      "count    140834.000000\n",
      "mean       6070.810621\n",
      "std        3017.683099\n",
      "min           0.000000\n",
      "25%        3720.000000\n",
      "50%        5760.000000\n",
      "75%        7740.000000\n",
      "max       14940.000000\n",
      "Name: income, dtype: float64\n"
     ]
    }
   ],
   "source": [
    "summary_stats = df_income['income'].describe()\n",
    "print(summary_stats)"
   ]
  },
  {
   "cell_type": "code",
   "execution_count": 44,
   "id": "3093ee37-010c-4ca9-9f23-4282d6332516",
   "metadata": {},
   "outputs": [
    {
     "data": {
      "text/plain": [
       "ID                               0\n",
       "year                             0\n",
       "loan_limit                    3195\n",
       "Gender                           0\n",
       "approv_in_adv                  857\n",
       "loan_type                        0\n",
       "loan_purpose                   120\n",
       "Credit_Worthiness                0\n",
       "open_credit                      0\n",
       "business_or_commercial           0\n",
       "loan_amount                      0\n",
       "rate_of_interest             34727\n",
       "Interest_rate_spread         34727\n",
       "Upfront_charges              37668\n",
       "term                            37\n",
       "Neg_ammortization              114\n",
       "interest_only                    0\n",
       "lump_sum_payment                 0\n",
       "property_value               14287\n",
       "construction_type                0\n",
       "occupancy_type                   0\n",
       "Secured_by                       0\n",
       "total_units                      0\n",
       "income                           0\n",
       "credit_type                      0\n",
       "Credit_Score                     0\n",
       "co-applicant_credit_type         0\n",
       "age                              0\n",
       "submission_of_application        0\n",
       "LTV                              0\n",
       "Region                           0\n",
       "Security_Type                    0\n",
       "Status                           0\n",
       "dtir1                        23110\n",
       "dtype: int64"
      ]
     },
     "execution_count": 44,
     "metadata": {},
     "output_type": "execute_result"
    }
   ],
   "source": [
    "df_income.isnull().sum()"
   ]
  },
  {
   "cell_type": "code",
   "execution_count": 45,
   "id": "89f5432b-b0b1-41bc-801c-84e27e6ea3b8",
   "metadata": {},
   "outputs": [
    {
     "name": "stdout",
     "output_type": "stream",
     "text": [
      "Outliers detected:\n",
      " Empty DataFrame\n",
      "Columns: [ID, year, loan_limit, Gender, approv_in_adv, loan_type, loan_purpose, Credit_Worthiness, open_credit, business_or_commercial, loan_amount, rate_of_interest, Interest_rate_spread, Upfront_charges, term, Neg_ammortization, interest_only, lump_sum_payment, property_value, construction_type, occupancy_type, Secured_by, total_units, income, credit_type, Credit_Score, co-applicant_credit_type, age, submission_of_application, LTV, Region, Security_Type, Status, dtir1]\n",
      "Index: []\n",
      "\n",
      "[0 rows x 34 columns]\n"
     ]
    }
   ],
   "source": [
    "Q1 = summary_stats['25%']\n",
    "Q3 = summary_stats['75%']\n",
    "IQR = Q3 - Q1\n",
    "\n",
    "# Define lower and upper bounds\n",
    "lower_bound = Q1 - 1.5 * IQR\n",
    "upper_bound = Q3 + 1.5 * IQR\n",
    "\n",
    "# Detect outliers\n",
    "outliers = df_income[(df_income['LTV'] < lower_bound) | (df_income['LTV'] > upper_bound)]\n",
    "print(\"Outliers detected:\\n\", outliers)"
   ]
  },
  {
   "cell_type": "code",
   "execution_count": 46,
   "id": "8f58ccf4-a432-43eb-9cda-f52049db1d70",
   "metadata": {},
   "outputs": [],
   "source": [
    "df_ltv=df_income.copy()"
   ]
  },
  {
   "cell_type": "code",
   "execution_count": 48,
   "id": "04c19140-ea3c-47b6-9cb9-e693a1eb8bff",
   "metadata": {},
   "outputs": [
    {
     "data": {
      "text/html": [
       "<div>\n",
       "<style scoped>\n",
       "    .dataframe tbody tr th:only-of-type {\n",
       "        vertical-align: middle;\n",
       "    }\n",
       "\n",
       "    .dataframe tbody tr th {\n",
       "        vertical-align: top;\n",
       "    }\n",
       "\n",
       "    .dataframe thead th {\n",
       "        text-align: right;\n",
       "    }\n",
       "</style>\n",
       "<table border=\"1\" class=\"dataframe\">\n",
       "  <thead>\n",
       "    <tr style=\"text-align: right;\">\n",
       "      <th></th>\n",
       "      <th>ID</th>\n",
       "      <th>year</th>\n",
       "      <th>loan_limit</th>\n",
       "      <th>Gender</th>\n",
       "      <th>approv_in_adv</th>\n",
       "      <th>loan_type</th>\n",
       "      <th>loan_purpose</th>\n",
       "      <th>Credit_Worthiness</th>\n",
       "      <th>open_credit</th>\n",
       "      <th>business_or_commercial</th>\n",
       "      <th>...</th>\n",
       "      <th>credit_type</th>\n",
       "      <th>Credit_Score</th>\n",
       "      <th>co-applicant_credit_type</th>\n",
       "      <th>age</th>\n",
       "      <th>submission_of_application</th>\n",
       "      <th>LTV</th>\n",
       "      <th>Region</th>\n",
       "      <th>Security_Type</th>\n",
       "      <th>Status</th>\n",
       "      <th>dtir1</th>\n",
       "    </tr>\n",
       "  </thead>\n",
       "  <tbody>\n",
       "    <tr>\n",
       "      <th>0</th>\n",
       "      <td>24890</td>\n",
       "      <td>2019</td>\n",
       "      <td>cf</td>\n",
       "      <td>Sex Not Available</td>\n",
       "      <td>nopre</td>\n",
       "      <td>type1</td>\n",
       "      <td>p1</td>\n",
       "      <td>l1</td>\n",
       "      <td>nopc</td>\n",
       "      <td>nob/c</td>\n",
       "      <td>...</td>\n",
       "      <td>EXP</td>\n",
       "      <td>758</td>\n",
       "      <td>CIB</td>\n",
       "      <td>25-34</td>\n",
       "      <td>to_inst</td>\n",
       "      <td>98.728814</td>\n",
       "      <td>south</td>\n",
       "      <td>direct</td>\n",
       "      <td>1</td>\n",
       "      <td>45.0</td>\n",
       "    </tr>\n",
       "    <tr>\n",
       "      <th>1</th>\n",
       "      <td>24891</td>\n",
       "      <td>2019</td>\n",
       "      <td>cf</td>\n",
       "      <td>Male</td>\n",
       "      <td>nopre</td>\n",
       "      <td>type2</td>\n",
       "      <td>p1</td>\n",
       "      <td>l1</td>\n",
       "      <td>nopc</td>\n",
       "      <td>b/c</td>\n",
       "      <td>...</td>\n",
       "      <td>EQUI</td>\n",
       "      <td>552</td>\n",
       "      <td>EXP</td>\n",
       "      <td>55-64</td>\n",
       "      <td>to_inst</td>\n",
       "      <td>72.731293</td>\n",
       "      <td>North</td>\n",
       "      <td>direct</td>\n",
       "      <td>1</td>\n",
       "      <td>NaN</td>\n",
       "    </tr>\n",
       "    <tr>\n",
       "      <th>2</th>\n",
       "      <td>24892</td>\n",
       "      <td>2019</td>\n",
       "      <td>cf</td>\n",
       "      <td>Male</td>\n",
       "      <td>pre</td>\n",
       "      <td>type1</td>\n",
       "      <td>p1</td>\n",
       "      <td>l1</td>\n",
       "      <td>nopc</td>\n",
       "      <td>nob/c</td>\n",
       "      <td>...</td>\n",
       "      <td>EXP</td>\n",
       "      <td>834</td>\n",
       "      <td>CIB</td>\n",
       "      <td>35-44</td>\n",
       "      <td>to_inst</td>\n",
       "      <td>80.019685</td>\n",
       "      <td>south</td>\n",
       "      <td>direct</td>\n",
       "      <td>0</td>\n",
       "      <td>46.0</td>\n",
       "    </tr>\n",
       "    <tr>\n",
       "      <th>3</th>\n",
       "      <td>24893</td>\n",
       "      <td>2019</td>\n",
       "      <td>cf</td>\n",
       "      <td>Male</td>\n",
       "      <td>nopre</td>\n",
       "      <td>type1</td>\n",
       "      <td>p4</td>\n",
       "      <td>l1</td>\n",
       "      <td>nopc</td>\n",
       "      <td>nob/c</td>\n",
       "      <td>...</td>\n",
       "      <td>EXP</td>\n",
       "      <td>587</td>\n",
       "      <td>CIB</td>\n",
       "      <td>45-54</td>\n",
       "      <td>not_inst</td>\n",
       "      <td>69.376900</td>\n",
       "      <td>North</td>\n",
       "      <td>direct</td>\n",
       "      <td>0</td>\n",
       "      <td>42.0</td>\n",
       "    </tr>\n",
       "    <tr>\n",
       "      <th>4</th>\n",
       "      <td>24894</td>\n",
       "      <td>2019</td>\n",
       "      <td>cf</td>\n",
       "      <td>Joint</td>\n",
       "      <td>pre</td>\n",
       "      <td>type1</td>\n",
       "      <td>p1</td>\n",
       "      <td>l1</td>\n",
       "      <td>nopc</td>\n",
       "      <td>nob/c</td>\n",
       "      <td>...</td>\n",
       "      <td>CRIF</td>\n",
       "      <td>602</td>\n",
       "      <td>EXP</td>\n",
       "      <td>25-34</td>\n",
       "      <td>not_inst</td>\n",
       "      <td>91.886544</td>\n",
       "      <td>North</td>\n",
       "      <td>direct</td>\n",
       "      <td>0</td>\n",
       "      <td>39.0</td>\n",
       "    </tr>\n",
       "  </tbody>\n",
       "</table>\n",
       "<p>5 rows × 34 columns</p>\n",
       "</div>"
      ],
      "text/plain": [
       "      ID  year loan_limit             Gender approv_in_adv loan_type  \\\n",
       "0  24890  2019         cf  Sex Not Available         nopre     type1   \n",
       "1  24891  2019         cf               Male         nopre     type2   \n",
       "2  24892  2019         cf               Male           pre     type1   \n",
       "3  24893  2019         cf               Male         nopre     type1   \n",
       "4  24894  2019         cf              Joint           pre     type1   \n",
       "\n",
       "  loan_purpose Credit_Worthiness open_credit business_or_commercial  ...  \\\n",
       "0           p1                l1        nopc                  nob/c  ...   \n",
       "1           p1                l1        nopc                    b/c  ...   \n",
       "2           p1                l1        nopc                  nob/c  ...   \n",
       "3           p4                l1        nopc                  nob/c  ...   \n",
       "4           p1                l1        nopc                  nob/c  ...   \n",
       "\n",
       "   credit_type  Credit_Score  co-applicant_credit_type    age  \\\n",
       "0          EXP           758                       CIB  25-34   \n",
       "1         EQUI           552                       EXP  55-64   \n",
       "2          EXP           834                       CIB  35-44   \n",
       "3          EXP           587                       CIB  45-54   \n",
       "4         CRIF           602                       EXP  25-34   \n",
       "\n",
       "   submission_of_application        LTV Region Security_Type  Status dtir1  \n",
       "0                    to_inst  98.728814  south        direct       1  45.0  \n",
       "1                    to_inst  72.731293  North        direct       1   NaN  \n",
       "2                    to_inst  80.019685  south        direct       0  46.0  \n",
       "3                   not_inst  69.376900  North        direct       0  42.0  \n",
       "4                   not_inst  91.886544  North        direct       0  39.0  \n",
       "\n",
       "[5 rows x 34 columns]"
      ]
     },
     "execution_count": 48,
     "metadata": {},
     "output_type": "execute_result"
    }
   ],
   "source": [
    "df_ltv.head()"
   ]
  },
  {
   "cell_type": "code",
   "execution_count": 49,
   "id": "c2519160-c5d9-4925-90c5-1ac84b75edbf",
   "metadata": {},
   "outputs": [
    {
     "name": "stdout",
     "output_type": "stream",
     "text": [
      "Outliers detected:\n",
      " Empty DataFrame\n",
      "Columns: [ID, year, loan_limit, Gender, approv_in_adv, loan_type, loan_purpose, Credit_Worthiness, open_credit, business_or_commercial, loan_amount, rate_of_interest, Interest_rate_spread, Upfront_charges, term, Neg_ammortization, interest_only, lump_sum_payment, property_value, construction_type, occupancy_type, Secured_by, total_units, income, credit_type, Credit_Score, co-applicant_credit_type, age, submission_of_application, LTV, Region, Security_Type, Status, dtir1]\n",
      "Index: []\n",
      "\n",
      "[0 rows x 34 columns]\n"
     ]
    }
   ],
   "source": [
    "Q1 = summary_stats['25%']\n",
    "Q3 = summary_stats['75%']\n",
    "IQR = Q3 - Q1\n",
    "\n",
    "# Define lower and upper bounds\n",
    "lower_bound = Q1 - 1.5 * IQR\n",
    "upper_bound = Q3 + 1.5 * IQR\n",
    "\n",
    "# Detect outliers\n",
    "outliers = df_ltv[(df_ltv['Credit_Score'] < lower_bound) | (df_ltv['Credit_Score'] > upper_bound)]\n",
    "print(\"Outliers detected:\\n\", outliers)"
   ]
  },
  {
   "cell_type": "code",
   "execution_count": 50,
   "id": "2a5f9164-9c13-47bd-b376-249616ad7e13",
   "metadata": {},
   "outputs": [],
   "source": [
    "df_Credit_Score=df_ltv.copy()"
   ]
  },
  {
   "cell_type": "code",
   "execution_count": 52,
   "id": "5dffa4ee-7fe0-4486-92a1-a6af2323af14",
   "metadata": {},
   "outputs": [
    {
     "data": {
      "text/html": [
       "<div>\n",
       "<style scoped>\n",
       "    .dataframe tbody tr th:only-of-type {\n",
       "        vertical-align: middle;\n",
       "    }\n",
       "\n",
       "    .dataframe tbody tr th {\n",
       "        vertical-align: top;\n",
       "    }\n",
       "\n",
       "    .dataframe thead th {\n",
       "        text-align: right;\n",
       "    }\n",
       "</style>\n",
       "<table border=\"1\" class=\"dataframe\">\n",
       "  <thead>\n",
       "    <tr style=\"text-align: right;\">\n",
       "      <th></th>\n",
       "      <th>ID</th>\n",
       "      <th>year</th>\n",
       "      <th>loan_limit</th>\n",
       "      <th>Gender</th>\n",
       "      <th>approv_in_adv</th>\n",
       "      <th>loan_type</th>\n",
       "      <th>loan_purpose</th>\n",
       "      <th>Credit_Worthiness</th>\n",
       "      <th>open_credit</th>\n",
       "      <th>business_or_commercial</th>\n",
       "      <th>...</th>\n",
       "      <th>credit_type</th>\n",
       "      <th>Credit_Score</th>\n",
       "      <th>co-applicant_credit_type</th>\n",
       "      <th>age</th>\n",
       "      <th>submission_of_application</th>\n",
       "      <th>LTV</th>\n",
       "      <th>Region</th>\n",
       "      <th>Security_Type</th>\n",
       "      <th>Status</th>\n",
       "      <th>dtir1</th>\n",
       "    </tr>\n",
       "  </thead>\n",
       "  <tbody>\n",
       "    <tr>\n",
       "      <th>0</th>\n",
       "      <td>24890</td>\n",
       "      <td>2019</td>\n",
       "      <td>cf</td>\n",
       "      <td>Sex Not Available</td>\n",
       "      <td>nopre</td>\n",
       "      <td>type1</td>\n",
       "      <td>p1</td>\n",
       "      <td>l1</td>\n",
       "      <td>nopc</td>\n",
       "      <td>nob/c</td>\n",
       "      <td>...</td>\n",
       "      <td>EXP</td>\n",
       "      <td>758</td>\n",
       "      <td>CIB</td>\n",
       "      <td>25-34</td>\n",
       "      <td>to_inst</td>\n",
       "      <td>98.728814</td>\n",
       "      <td>south</td>\n",
       "      <td>direct</td>\n",
       "      <td>1</td>\n",
       "      <td>45.0</td>\n",
       "    </tr>\n",
       "    <tr>\n",
       "      <th>1</th>\n",
       "      <td>24891</td>\n",
       "      <td>2019</td>\n",
       "      <td>cf</td>\n",
       "      <td>Male</td>\n",
       "      <td>nopre</td>\n",
       "      <td>type2</td>\n",
       "      <td>p1</td>\n",
       "      <td>l1</td>\n",
       "      <td>nopc</td>\n",
       "      <td>b/c</td>\n",
       "      <td>...</td>\n",
       "      <td>EQUI</td>\n",
       "      <td>552</td>\n",
       "      <td>EXP</td>\n",
       "      <td>55-64</td>\n",
       "      <td>to_inst</td>\n",
       "      <td>72.731293</td>\n",
       "      <td>North</td>\n",
       "      <td>direct</td>\n",
       "      <td>1</td>\n",
       "      <td>NaN</td>\n",
       "    </tr>\n",
       "    <tr>\n",
       "      <th>2</th>\n",
       "      <td>24892</td>\n",
       "      <td>2019</td>\n",
       "      <td>cf</td>\n",
       "      <td>Male</td>\n",
       "      <td>pre</td>\n",
       "      <td>type1</td>\n",
       "      <td>p1</td>\n",
       "      <td>l1</td>\n",
       "      <td>nopc</td>\n",
       "      <td>nob/c</td>\n",
       "      <td>...</td>\n",
       "      <td>EXP</td>\n",
       "      <td>834</td>\n",
       "      <td>CIB</td>\n",
       "      <td>35-44</td>\n",
       "      <td>to_inst</td>\n",
       "      <td>80.019685</td>\n",
       "      <td>south</td>\n",
       "      <td>direct</td>\n",
       "      <td>0</td>\n",
       "      <td>46.0</td>\n",
       "    </tr>\n",
       "    <tr>\n",
       "      <th>3</th>\n",
       "      <td>24893</td>\n",
       "      <td>2019</td>\n",
       "      <td>cf</td>\n",
       "      <td>Male</td>\n",
       "      <td>nopre</td>\n",
       "      <td>type1</td>\n",
       "      <td>p4</td>\n",
       "      <td>l1</td>\n",
       "      <td>nopc</td>\n",
       "      <td>nob/c</td>\n",
       "      <td>...</td>\n",
       "      <td>EXP</td>\n",
       "      <td>587</td>\n",
       "      <td>CIB</td>\n",
       "      <td>45-54</td>\n",
       "      <td>not_inst</td>\n",
       "      <td>69.376900</td>\n",
       "      <td>North</td>\n",
       "      <td>direct</td>\n",
       "      <td>0</td>\n",
       "      <td>42.0</td>\n",
       "    </tr>\n",
       "    <tr>\n",
       "      <th>4</th>\n",
       "      <td>24894</td>\n",
       "      <td>2019</td>\n",
       "      <td>cf</td>\n",
       "      <td>Joint</td>\n",
       "      <td>pre</td>\n",
       "      <td>type1</td>\n",
       "      <td>p1</td>\n",
       "      <td>l1</td>\n",
       "      <td>nopc</td>\n",
       "      <td>nob/c</td>\n",
       "      <td>...</td>\n",
       "      <td>CRIF</td>\n",
       "      <td>602</td>\n",
       "      <td>EXP</td>\n",
       "      <td>25-34</td>\n",
       "      <td>not_inst</td>\n",
       "      <td>91.886544</td>\n",
       "      <td>North</td>\n",
       "      <td>direct</td>\n",
       "      <td>0</td>\n",
       "      <td>39.0</td>\n",
       "    </tr>\n",
       "  </tbody>\n",
       "</table>\n",
       "<p>5 rows × 34 columns</p>\n",
       "</div>"
      ],
      "text/plain": [
       "      ID  year loan_limit             Gender approv_in_adv loan_type  \\\n",
       "0  24890  2019         cf  Sex Not Available         nopre     type1   \n",
       "1  24891  2019         cf               Male         nopre     type2   \n",
       "2  24892  2019         cf               Male           pre     type1   \n",
       "3  24893  2019         cf               Male         nopre     type1   \n",
       "4  24894  2019         cf              Joint           pre     type1   \n",
       "\n",
       "  loan_purpose Credit_Worthiness open_credit business_or_commercial  ...  \\\n",
       "0           p1                l1        nopc                  nob/c  ...   \n",
       "1           p1                l1        nopc                    b/c  ...   \n",
       "2           p1                l1        nopc                  nob/c  ...   \n",
       "3           p4                l1        nopc                  nob/c  ...   \n",
       "4           p1                l1        nopc                  nob/c  ...   \n",
       "\n",
       "   credit_type  Credit_Score  co-applicant_credit_type    age  \\\n",
       "0          EXP           758                       CIB  25-34   \n",
       "1         EQUI           552                       EXP  55-64   \n",
       "2          EXP           834                       CIB  35-44   \n",
       "3          EXP           587                       CIB  45-54   \n",
       "4         CRIF           602                       EXP  25-34   \n",
       "\n",
       "   submission_of_application        LTV Region Security_Type  Status dtir1  \n",
       "0                    to_inst  98.728814  south        direct       1  45.0  \n",
       "1                    to_inst  72.731293  North        direct       1   NaN  \n",
       "2                    to_inst  80.019685  south        direct       0  46.0  \n",
       "3                   not_inst  69.376900  North        direct       0  42.0  \n",
       "4                   not_inst  91.886544  North        direct       0  39.0  \n",
       "\n",
       "[5 rows x 34 columns]"
      ]
     },
     "execution_count": 52,
     "metadata": {},
     "output_type": "execute_result"
    }
   ],
   "source": [
    "df_Credit_Score.head()"
   ]
  },
  {
   "cell_type": "code",
   "execution_count": 53,
   "id": "f6a92fb3-566a-4f38-8cad-ca141238efac",
   "metadata": {},
   "outputs": [
    {
     "name": "stdout",
     "output_type": "stream",
     "text": [
      "Outliers detected:\n",
      "             ID  year loan_limit             Gender approv_in_adv loan_type  \\\n",
      "0        24890  2019         cf  Sex Not Available         nopre     type1   \n",
      "1        24891  2019         cf               Male         nopre     type2   \n",
      "2        24892  2019         cf               Male           pre     type1   \n",
      "3        24893  2019         cf               Male         nopre     type1   \n",
      "4        24894  2019         cf              Joint           pre     type1   \n",
      "...        ...   ...        ...                ...           ...       ...   \n",
      "148665  173555  2019         cf  Sex Not Available         nopre     type1   \n",
      "148666  173556  2019         cf               Male         nopre     type1   \n",
      "148667  173557  2019         cf               Male         nopre     type1   \n",
      "148668  173558  2019         cf             Female         nopre     type1   \n",
      "148669  173559  2019         cf             Female         nopre     type1   \n",
      "\n",
      "       loan_purpose Credit_Worthiness open_credit business_or_commercial  ...  \\\n",
      "0                p1                l1        nopc                  nob/c  ...   \n",
      "1                p1                l1        nopc                    b/c  ...   \n",
      "2                p1                l1        nopc                  nob/c  ...   \n",
      "3                p4                l1        nopc                  nob/c  ...   \n",
      "4                p1                l1        nopc                  nob/c  ...   \n",
      "...             ...               ...         ...                    ...  ...   \n",
      "148665           p3                l1        nopc                  nob/c  ...   \n",
      "148666           p1                l1        nopc                  nob/c  ...   \n",
      "148667           p4                l1        nopc                  nob/c  ...   \n",
      "148668           p4                l1        nopc                  nob/c  ...   \n",
      "148669           p3                l1        nopc                  nob/c  ...   \n",
      "\n",
      "        credit_type  Credit_Score  co-applicant_credit_type    age  \\\n",
      "0               EXP           758                       CIB  25-34   \n",
      "1              EQUI           552                       EXP  55-64   \n",
      "2               EXP           834                       CIB  35-44   \n",
      "3               EXP           587                       CIB  45-54   \n",
      "4              CRIF           602                       EXP  25-34   \n",
      "...             ...           ...                       ...    ...   \n",
      "148665          CIB           659                       EXP  55-64   \n",
      "148666          CIB           569                       CIB  25-34   \n",
      "148667          CIB           702                       EXP  45-54   \n",
      "148668          EXP           737                       EXP  55-64   \n",
      "148669          CIB           830                       CIB  45-54   \n",
      "\n",
      "        submission_of_application        LTV Region Security_Type  Status  \\\n",
      "0                         to_inst  98.728814  south        direct       1   \n",
      "1                         to_inst  72.731293  North        direct       1   \n",
      "2                         to_inst  80.019685  south        direct       0   \n",
      "3                        not_inst  69.376900  North        direct       0   \n",
      "4                        not_inst  91.886544  North        direct       0   \n",
      "...                           ...        ...    ...           ...     ...   \n",
      "148665                    to_inst  71.792763  south        direct       0   \n",
      "148666                   not_inst  74.428934  south        direct       0   \n",
      "148667                   not_inst  61.332418  North        direct       0   \n",
      "148668                    to_inst  70.683453  North        direct       0   \n",
      "148669                   not_inst  72.849462  North        direct       0   \n",
      "\n",
      "       dtir1  \n",
      "0       45.0  \n",
      "1        NaN  \n",
      "2       46.0  \n",
      "3       42.0  \n",
      "4       39.0  \n",
      "...      ...  \n",
      "148665  48.0  \n",
      "148666  15.0  \n",
      "148667  49.0  \n",
      "148668  29.0  \n",
      "148669  44.0  \n",
      "\n",
      "[140834 rows x 34 columns]\n"
     ]
    }
   ],
   "source": [
    "Q1 = summary_stats['25%']\n",
    "Q3 = summary_stats['75%']\n",
    "IQR = Q3 - Q1\n",
    "\n",
    "# Define lower and upper bounds\n",
    "lower_bound = Q1 - 1.5 * IQR\n",
    "upper_bound = Q3 + 1.5 * IQR\n",
    "\n",
    "# Detect outliers\n",
    "outliers = df_Credit_Score[(df_Credit_Score['loan_amount'] < lower_bound) | (df_Credit_Score['loan_amount'] > upper_bound)]\n",
    "print(\"Outliers detected:\\n\", outliers)"
   ]
  },
  {
   "cell_type": "code",
   "execution_count": 54,
   "id": "b2e55063-e992-475a-ade4-40721f8a6f29",
   "metadata": {},
   "outputs": [],
   "source": [
    "# Calculate Q1 (25th percentile) and Q3 (75th percentile)\n",
    "Q1 = df_Credit_Score['loan_amount'].quantile(0.25)\n",
    "Q3 = df_Credit_Score['loan_amount'].quantile(0.75)\n",
    "IQR = Q3 - Q1\n",
    "\n",
    "# Define lower and upper bounds for outliers\n",
    "lower_bound = Q1 - 1.5 * IQR\n",
    "upper_bound = Q3 + 1.5 * IQR\n",
    "\n",
    "# Remove outliers\n",
    "\n",
    "# If you want to update the original DataFrame, use:\n",
    "df_income = df_Credit_Score[(df_Credit_Score['loan_amount'] >= lower_bound) & (df_Credit_Score['loan_amount'] <= upper_bound)]"
   ]
  },
  {
   "cell_type": "code",
   "execution_count": 55,
   "id": "7b085c11-2048-40da-899c-168a3b01e57a",
   "metadata": {},
   "outputs": [
    {
     "name": "stdout",
     "output_type": "stream",
     "text": [
      "Outliers detected:\n",
      "             ID  year loan_limit             Gender approv_in_adv loan_type  \\\n",
      "0        24890  2019         cf  Sex Not Available         nopre     type1   \n",
      "1        24891  2019         cf               Male         nopre     type2   \n",
      "2        24892  2019         cf               Male           pre     type1   \n",
      "3        24893  2019         cf               Male         nopre     type1   \n",
      "4        24894  2019         cf              Joint           pre     type1   \n",
      "...        ...   ...        ...                ...           ...       ...   \n",
      "148665  173555  2019         cf  Sex Not Available         nopre     type1   \n",
      "148666  173556  2019         cf               Male         nopre     type1   \n",
      "148667  173557  2019         cf               Male         nopre     type1   \n",
      "148668  173558  2019         cf             Female         nopre     type1   \n",
      "148669  173559  2019         cf             Female         nopre     type1   \n",
      "\n",
      "       loan_purpose Credit_Worthiness open_credit business_or_commercial  ...  \\\n",
      "0                p1                l1        nopc                  nob/c  ...   \n",
      "1                p1                l1        nopc                    b/c  ...   \n",
      "2                p1                l1        nopc                  nob/c  ...   \n",
      "3                p4                l1        nopc                  nob/c  ...   \n",
      "4                p1                l1        nopc                  nob/c  ...   \n",
      "...             ...               ...         ...                    ...  ...   \n",
      "148665           p3                l1        nopc                  nob/c  ...   \n",
      "148666           p1                l1        nopc                  nob/c  ...   \n",
      "148667           p4                l1        nopc                  nob/c  ...   \n",
      "148668           p4                l1        nopc                  nob/c  ...   \n",
      "148669           p3                l1        nopc                  nob/c  ...   \n",
      "\n",
      "        credit_type  Credit_Score  co-applicant_credit_type    age  \\\n",
      "0               EXP           758                       CIB  25-34   \n",
      "1              EQUI           552                       EXP  55-64   \n",
      "2               EXP           834                       CIB  35-44   \n",
      "3               EXP           587                       CIB  45-54   \n",
      "4              CRIF           602                       EXP  25-34   \n",
      "...             ...           ...                       ...    ...   \n",
      "148665          CIB           659                       EXP  55-64   \n",
      "148666          CIB           569                       CIB  25-34   \n",
      "148667          CIB           702                       EXP  45-54   \n",
      "148668          EXP           737                       EXP  55-64   \n",
      "148669          CIB           830                       CIB  45-54   \n",
      "\n",
      "        submission_of_application        LTV Region Security_Type  Status  \\\n",
      "0                         to_inst  98.728814  south        direct       1   \n",
      "1                         to_inst  72.731293  North        direct       1   \n",
      "2                         to_inst  80.019685  south        direct       0   \n",
      "3                        not_inst  69.376900  North        direct       0   \n",
      "4                        not_inst  91.886544  North        direct       0   \n",
      "...                           ...        ...    ...           ...     ...   \n",
      "148665                    to_inst  71.792763  south        direct       0   \n",
      "148666                   not_inst  74.428934  south        direct       0   \n",
      "148667                   not_inst  61.332418  North        direct       0   \n",
      "148668                    to_inst  70.683453  North        direct       0   \n",
      "148669                   not_inst  72.849462  North        direct       0   \n",
      "\n",
      "       dtir1  \n",
      "0       45.0  \n",
      "1        NaN  \n",
      "2       46.0  \n",
      "3       42.0  \n",
      "4       39.0  \n",
      "...      ...  \n",
      "148665  48.0  \n",
      "148666  15.0  \n",
      "148667  49.0  \n",
      "148668  29.0  \n",
      "148669  44.0  \n",
      "\n",
      "[140834 rows x 34 columns]\n"
     ]
    }
   ],
   "source": [
    "Q1 = summary_stats['25%']\n",
    "Q3 = summary_stats['75%']\n",
    "IQR = Q3 - Q1\n",
    "\n",
    "# Define lower and upper bounds\n",
    "lower_bound = Q1 - 1.5 * IQR\n",
    "upper_bound = Q3 + 1.5 * IQR\n",
    "\n",
    "# Detect outliers\n",
    "outliers = df_Credit_Score[(df_Credit_Score['loan_amount'] < lower_bound) | (df_Credit_Score['loan_amount'] > upper_bound)]\n",
    "print(\"Outliers detected:\\n\", outliers)"
   ]
  },
  {
   "cell_type": "code",
   "execution_count": 56,
   "id": "0b5246bc-fb94-43ff-9fe7-25cfa2e9b60a",
   "metadata": {},
   "outputs": [
    {
     "name": "stdout",
     "output_type": "stream",
     "text": [
      "<class 'pandas.core.frame.DataFrame'>\n",
      "Index: 140834 entries, 0 to 148669\n",
      "Data columns (total 34 columns):\n",
      " #   Column                     Non-Null Count   Dtype  \n",
      "---  ------                     --------------   -----  \n",
      " 0   ID                         140834 non-null  int64  \n",
      " 1   year                       140834 non-null  int64  \n",
      " 2   loan_limit                 137639 non-null  object \n",
      " 3   Gender                     140834 non-null  object \n",
      " 4   approv_in_adv              139977 non-null  object \n",
      " 5   loan_type                  140834 non-null  object \n",
      " 6   loan_purpose               140714 non-null  object \n",
      " 7   Credit_Worthiness          140834 non-null  object \n",
      " 8   open_credit                140834 non-null  object \n",
      " 9   business_or_commercial     140834 non-null  object \n",
      " 10  loan_amount                140834 non-null  int64  \n",
      " 11  rate_of_interest           106107 non-null  float64\n",
      " 12  Interest_rate_spread       106107 non-null  float64\n",
      " 13  Upfront_charges            103166 non-null  float64\n",
      " 14  term                       140797 non-null  float64\n",
      " 15  Neg_ammortization          140720 non-null  object \n",
      " 16  interest_only              140834 non-null  object \n",
      " 17  lump_sum_payment           140834 non-null  object \n",
      " 18  property_value             126547 non-null  float64\n",
      " 19  construction_type          140834 non-null  object \n",
      " 20  occupancy_type             140834 non-null  object \n",
      " 21  Secured_by                 140834 non-null  object \n",
      " 22  total_units                140834 non-null  object \n",
      " 23  income                     140834 non-null  float64\n",
      " 24  credit_type                140834 non-null  object \n",
      " 25  Credit_Score               140834 non-null  int64  \n",
      " 26  co-applicant_credit_type   140834 non-null  object \n",
      " 27  age                        140834 non-null  object \n",
      " 28  submission_of_application  140834 non-null  object \n",
      " 29  LTV                        140834 non-null  float64\n",
      " 30  Region                     140834 non-null  object \n",
      " 31  Security_Type              140834 non-null  object \n",
      " 32  Status                     140834 non-null  int64  \n",
      " 33  dtir1                      117724 non-null  float64\n",
      "dtypes: float64(8), int64(5), object(21)\n",
      "memory usage: 37.6+ MB\n"
     ]
    }
   ],
   "source": [
    "df_Credit_Score.info()"
   ]
  },
  {
   "cell_type": "code",
   "execution_count": 57,
   "id": "382f8343-a5ad-4c9b-b0bf-6223763eadfb",
   "metadata": {},
   "outputs": [],
   "source": [
    "df_Credit_Score.to_csv('cleaned.csv', index=False)"
   ]
  },
  {
   "cell_type": "code",
   "execution_count": null,
   "id": "f6f8b4e3-2220-4174-be0c-640df8b48a42",
   "metadata": {},
   "outputs": [],
   "source": []
  }
 ],
 "metadata": {
  "kernelspec": {
   "display_name": "Python 3 (ipykernel)",
   "language": "python",
   "name": "python3"
  },
  "language_info": {
   "codemirror_mode": {
    "name": "ipython",
    "version": 3
   },
   "file_extension": ".py",
   "mimetype": "text/x-python",
   "name": "python",
   "nbconvert_exporter": "python",
   "pygments_lexer": "ipython3",
   "version": "3.12.2"
  }
 },
 "nbformat": 4,
 "nbformat_minor": 5
}
